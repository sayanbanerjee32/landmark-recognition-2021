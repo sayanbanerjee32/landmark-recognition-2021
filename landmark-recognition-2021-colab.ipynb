{
  "nbformat": 4,
  "nbformat_minor": 0,
  "metadata": {
    "kernelspec": {
      "language": "python",
      "display_name": "Python 3",
      "name": "python3"
    },
    "language_info": {
      "name": "python",
      "version": "3.7.10",
      "mimetype": "text/x-python",
      "codemirror_mode": {
        "name": "ipython",
        "version": 3
      },
      "pygments_lexer": "ipython3",
      "nbconvert_exporter": "python",
      "file_extension": ".py"
    },
    "colab": {
      "name": "landmark-recognition-2021.ipynb",
      "provenance": [],
      "include_colab_link": true
    },
    "accelerator": "GPU"
  },
  "cells": [
    {
      "cell_type": "markdown",
      "metadata": {
        "id": "view-in-github",
        "colab_type": "text"
      },
      "source": [
        "<a href=\"https://colab.research.google.com/github/sayanbanerjee32/landmark-recognition-2021/blob/main/landmark-recognition-2021-colab.ipynb\" target=\"_parent\"><img src=\"https://colab.research.google.com/assets/colab-badge.svg\" alt=\"Open In Colab\"/></a>"
      ]
    },
    {
      "cell_type": "code",
      "metadata": {
        "id": "r46XDpYF-6l_"
      },
      "source": [
        "%%capture\n",
        "# To import kaggle datasets\n",
        "# !pip install -q kaggle\n",
        "!pip uninstall -y kaggle\n",
        "!pip install --upgrade pip \n",
        "!pip install kaggle==1.5.6"
      ],
      "execution_count": 1,
      "outputs": []
    },
    {
      "cell_type": "code",
      "metadata": {
        "id": "wq3eSX-l-_x_",
        "outputId": "addd1d31-8d6b-4a82-edfd-13ee9f6c38e8",
        "colab": {
          "resources": {
            "http://localhost:8080/nbextensions/google.colab/files.js": {
              "data": "Ly8gQ29weXJpZ2h0IDIwMTcgR29vZ2xlIExMQwovLwovLyBMaWNlbnNlZCB1bmRlciB0aGUgQXBhY2hlIExpY2Vuc2UsIFZlcnNpb24gMi4wICh0aGUgIkxpY2Vuc2UiKTsKLy8geW91IG1heSBub3QgdXNlIHRoaXMgZmlsZSBleGNlcHQgaW4gY29tcGxpYW5jZSB3aXRoIHRoZSBMaWNlbnNlLgovLyBZb3UgbWF5IG9idGFpbiBhIGNvcHkgb2YgdGhlIExpY2Vuc2UgYXQKLy8KLy8gICAgICBodHRwOi8vd3d3LmFwYWNoZS5vcmcvbGljZW5zZXMvTElDRU5TRS0yLjAKLy8KLy8gVW5sZXNzIHJlcXVpcmVkIGJ5IGFwcGxpY2FibGUgbGF3IG9yIGFncmVlZCB0byBpbiB3cml0aW5nLCBzb2Z0d2FyZQovLyBkaXN0cmlidXRlZCB1bmRlciB0aGUgTGljZW5zZSBpcyBkaXN0cmlidXRlZCBvbiBhbiAiQVMgSVMiIEJBU0lTLAovLyBXSVRIT1VUIFdBUlJBTlRJRVMgT1IgQ09ORElUSU9OUyBPRiBBTlkgS0lORCwgZWl0aGVyIGV4cHJlc3Mgb3IgaW1wbGllZC4KLy8gU2VlIHRoZSBMaWNlbnNlIGZvciB0aGUgc3BlY2lmaWMgbGFuZ3VhZ2UgZ292ZXJuaW5nIHBlcm1pc3Npb25zIGFuZAovLyBsaW1pdGF0aW9ucyB1bmRlciB0aGUgTGljZW5zZS4KCi8qKgogKiBAZmlsZW92ZXJ2aWV3IEhlbHBlcnMgZm9yIGdvb2dsZS5jb2xhYiBQeXRob24gbW9kdWxlLgogKi8KKGZ1bmN0aW9uKHNjb3BlKSB7CmZ1bmN0aW9uIHNwYW4odGV4dCwgc3R5bGVBdHRyaWJ1dGVzID0ge30pIHsKICBjb25zdCBlbGVtZW50ID0gZG9jdW1lbnQuY3JlYXRlRWxlbWVudCgnc3BhbicpOwogIGVsZW1lbnQudGV4dENvbnRlbnQgPSB0ZXh0OwogIGZvciAoY29uc3Qga2V5IG9mIE9iamVjdC5rZXlzKHN0eWxlQXR0cmlidXRlcykpIHsKICAgIGVsZW1lbnQuc3R5bGVba2V5XSA9IHN0eWxlQXR0cmlidXRlc1trZXldOwogIH0KICByZXR1cm4gZWxlbWVudDsKfQoKLy8gTWF4IG51bWJlciBvZiBieXRlcyB3aGljaCB3aWxsIGJlIHVwbG9hZGVkIGF0IGEgdGltZS4KY29uc3QgTUFYX1BBWUxPQURfU0laRSA9IDEwMCAqIDEwMjQ7CgpmdW5jdGlvbiBfdXBsb2FkRmlsZXMoaW5wdXRJZCwgb3V0cHV0SWQpIHsKICBjb25zdCBzdGVwcyA9IHVwbG9hZEZpbGVzU3RlcChpbnB1dElkLCBvdXRwdXRJZCk7CiAgY29uc3Qgb3V0cHV0RWxlbWVudCA9IGRvY3VtZW50LmdldEVsZW1lbnRCeUlkKG91dHB1dElkKTsKICAvLyBDYWNoZSBzdGVwcyBvbiB0aGUgb3V0cHV0RWxlbWVudCB0byBtYWtlIGl0IGF2YWlsYWJsZSBmb3IgdGhlIG5leHQgY2FsbAogIC8vIHRvIHVwbG9hZEZpbGVzQ29udGludWUgZnJvbSBQeXRob24uCiAgb3V0cHV0RWxlbWVudC5zdGVwcyA9IHN0ZXBzOwoKICByZXR1cm4gX3VwbG9hZEZpbGVzQ29udGludWUob3V0cHV0SWQpOwp9CgovLyBUaGlzIGlzIHJvdWdobHkgYW4gYXN5bmMgZ2VuZXJhdG9yIChub3Qgc3VwcG9ydGVkIGluIHRoZSBicm93c2VyIHlldCksCi8vIHdoZXJlIHRoZXJlIGFyZSBtdWx0aXBsZSBhc3luY2hyb25vdXMgc3RlcHMgYW5kIHRoZSBQeXRob24gc2lkZSBpcyBnb2luZwovLyB0byBwb2xsIGZvciBjb21wbGV0aW9uIG9mIGVhY2ggc3RlcC4KLy8gVGhpcyB1c2VzIGEgUHJvbWlzZSB0byBibG9jayB0aGUgcHl0aG9uIHNpZGUgb24gY29tcGxldGlvbiBvZiBlYWNoIHN0ZXAsCi8vIHRoZW4gcGFzc2VzIHRoZSByZXN1bHQgb2YgdGhlIHByZXZpb3VzIHN0ZXAgYXMgdGhlIGlucHV0IHRvIHRoZSBuZXh0IHN0ZXAuCmZ1bmN0aW9uIF91cGxvYWRGaWxlc0NvbnRpbnVlKG91dHB1dElkKSB7CiAgY29uc3Qgb3V0cHV0RWxlbWVudCA9IGRvY3VtZW50LmdldEVsZW1lbnRCeUlkKG91dHB1dElkKTsKICBjb25zdCBzdGVwcyA9IG91dHB1dEVsZW1lbnQuc3RlcHM7CgogIGNvbnN0IG5leHQgPSBzdGVwcy5uZXh0KG91dHB1dEVsZW1lbnQubGFzdFByb21pc2VWYWx1ZSk7CiAgcmV0dXJuIFByb21pc2UucmVzb2x2ZShuZXh0LnZhbHVlLnByb21pc2UpLnRoZW4oKHZhbHVlKSA9PiB7CiAgICAvLyBDYWNoZSB0aGUgbGFzdCBwcm9taXNlIHZhbHVlIHRvIG1ha2UgaXQgYXZhaWxhYmxlIHRvIHRoZSBuZXh0CiAgICAvLyBzdGVwIG9mIHRoZSBnZW5lcmF0b3IuCiAgICBvdXRwdXRFbGVtZW50Lmxhc3RQcm9taXNlVmFsdWUgPSB2YWx1ZTsKICAgIHJldHVybiBuZXh0LnZhbHVlLnJlc3BvbnNlOwogIH0pOwp9CgovKioKICogR2VuZXJhdG9yIGZ1bmN0aW9uIHdoaWNoIGlzIGNhbGxlZCBiZXR3ZWVuIGVhY2ggYXN5bmMgc3RlcCBvZiB0aGUgdXBsb2FkCiAqIHByb2Nlc3MuCiAqIEBwYXJhbSB7c3RyaW5nfSBpbnB1dElkIEVsZW1lbnQgSUQgb2YgdGhlIGlucHV0IGZpbGUgcGlja2VyIGVsZW1lbnQuCiAqIEBwYXJhbSB7c3RyaW5nfSBvdXRwdXRJZCBFbGVtZW50IElEIG9mIHRoZSBvdXRwdXQgZGlzcGxheS4KICogQHJldHVybiB7IUl0ZXJhYmxlPCFPYmplY3Q+fSBJdGVyYWJsZSBvZiBuZXh0IHN0ZXBzLgogKi8KZnVuY3Rpb24qIHVwbG9hZEZpbGVzU3RlcChpbnB1dElkLCBvdXRwdXRJZCkgewogIGNvbnN0IGlucHV0RWxlbWVudCA9IGRvY3VtZW50LmdldEVsZW1lbnRCeUlkKGlucHV0SWQpOwogIGlucHV0RWxlbWVudC5kaXNhYmxlZCA9IGZhbHNlOwoKICBjb25zdCBvdXRwdXRFbGVtZW50ID0gZG9jdW1lbnQuZ2V0RWxlbWVudEJ5SWQob3V0cHV0SWQpOwogIG91dHB1dEVsZW1lbnQuaW5uZXJIVE1MID0gJyc7CgogIGNvbnN0IHBpY2tlZFByb21pc2UgPSBuZXcgUHJvbWlzZSgocmVzb2x2ZSkgPT4gewogICAgaW5wdXRFbGVtZW50LmFkZEV2ZW50TGlzdGVuZXIoJ2NoYW5nZScsIChlKSA9PiB7CiAgICAgIHJlc29sdmUoZS50YXJnZXQuZmlsZXMpOwogICAgfSk7CiAgfSk7CgogIGNvbnN0IGNhbmNlbCA9IGRvY3VtZW50LmNyZWF0ZUVsZW1lbnQoJ2J1dHRvbicpOwogIGlucHV0RWxlbWVudC5wYXJlbnRFbGVtZW50LmFwcGVuZENoaWxkKGNhbmNlbCk7CiAgY2FuY2VsLnRleHRDb250ZW50ID0gJ0NhbmNlbCB1cGxvYWQnOwogIGNvbnN0IGNhbmNlbFByb21pc2UgPSBuZXcgUHJvbWlzZSgocmVzb2x2ZSkgPT4gewogICAgY2FuY2VsLm9uY2xpY2sgPSAoKSA9PiB7CiAgICAgIHJlc29sdmUobnVsbCk7CiAgICB9OwogIH0pOwoKICAvLyBXYWl0IGZvciB0aGUgdXNlciB0byBwaWNrIHRoZSBmaWxlcy4KICBjb25zdCBmaWxlcyA9IHlpZWxkIHsKICAgIHByb21pc2U6IFByb21pc2UucmFjZShbcGlja2VkUHJvbWlzZSwgY2FuY2VsUHJvbWlzZV0pLAogICAgcmVzcG9uc2U6IHsKICAgICAgYWN0aW9uOiAnc3RhcnRpbmcnLAogICAgfQogIH07CgogIGNhbmNlbC5yZW1vdmUoKTsKCiAgLy8gRGlzYWJsZSB0aGUgaW5wdXQgZWxlbWVudCBzaW5jZSBmdXJ0aGVyIHBpY2tzIGFyZSBub3QgYWxsb3dlZC4KICBpbnB1dEVsZW1lbnQuZGlzYWJsZWQgPSB0cnVlOwoKICBpZiAoIWZpbGVzKSB7CiAgICByZXR1cm4gewogICAgICByZXNwb25zZTogewogICAgICAgIGFjdGlvbjogJ2NvbXBsZXRlJywKICAgICAgfQogICAgfTsKICB9CgogIGZvciAoY29uc3QgZmlsZSBvZiBmaWxlcykgewogICAgY29uc3QgbGkgPSBkb2N1bWVudC5jcmVhdGVFbGVtZW50KCdsaScpOwogICAgbGkuYXBwZW5kKHNwYW4oZmlsZS5uYW1lLCB7Zm9udFdlaWdodDogJ2JvbGQnfSkpOwogICAgbGkuYXBwZW5kKHNwYW4oCiAgICAgICAgYCgke2ZpbGUudHlwZSB8fCAnbi9hJ30pIC0gJHtmaWxlLnNpemV9IGJ5dGVzLCBgICsKICAgICAgICBgbGFzdCBtb2RpZmllZDogJHsKICAgICAgICAgICAgZmlsZS5sYXN0TW9kaWZpZWREYXRlID8gZmlsZS5sYXN0TW9kaWZpZWREYXRlLnRvTG9jYWxlRGF0ZVN0cmluZygpIDoKICAgICAgICAgICAgICAgICAgICAgICAgICAgICAgICAgICAgJ24vYSd9IC0gYCkpOwogICAgY29uc3QgcGVyY2VudCA9IHNwYW4oJzAlIGRvbmUnKTsKICAgIGxpLmFwcGVuZENoaWxkKHBlcmNlbnQpOwoKICAgIG91dHB1dEVsZW1lbnQuYXBwZW5kQ2hpbGQobGkpOwoKICAgIGNvbnN0IGZpbGVEYXRhUHJvbWlzZSA9IG5ldyBQcm9taXNlKChyZXNvbHZlKSA9PiB7CiAgICAgIGNvbnN0IHJlYWRlciA9IG5ldyBGaWxlUmVhZGVyKCk7CiAgICAgIHJlYWRlci5vbmxvYWQgPSAoZSkgPT4gewogICAgICAgIHJlc29sdmUoZS50YXJnZXQucmVzdWx0KTsKICAgICAgfTsKICAgICAgcmVhZGVyLnJlYWRBc0FycmF5QnVmZmVyKGZpbGUpOwogICAgfSk7CiAgICAvLyBXYWl0IGZvciB0aGUgZGF0YSB0byBiZSByZWFkeS4KICAgIGxldCBmaWxlRGF0YSA9IHlpZWxkIHsKICAgICAgcHJvbWlzZTogZmlsZURhdGFQcm9taXNlLAogICAgICByZXNwb25zZTogewogICAgICAgIGFjdGlvbjogJ2NvbnRpbnVlJywKICAgICAgfQogICAgfTsKCiAgICAvLyBVc2UgYSBjaHVua2VkIHNlbmRpbmcgdG8gYXZvaWQgbWVzc2FnZSBzaXplIGxpbWl0cy4gU2VlIGIvNjIxMTU2NjAuCiAgICBsZXQgcG9zaXRpb24gPSAwOwogICAgZG8gewogICAgICBjb25zdCBsZW5ndGggPSBNYXRoLm1pbihmaWxlRGF0YS5ieXRlTGVuZ3RoIC0gcG9zaXRpb24sIE1BWF9QQVlMT0FEX1NJWkUpOwogICAgICBjb25zdCBjaHVuayA9IG5ldyBVaW50OEFycmF5KGZpbGVEYXRhLCBwb3NpdGlvbiwgbGVuZ3RoKTsKICAgICAgcG9zaXRpb24gKz0gbGVuZ3RoOwoKICAgICAgY29uc3QgYmFzZTY0ID0gYnRvYShTdHJpbmcuZnJvbUNoYXJDb2RlLmFwcGx5KG51bGwsIGNodW5rKSk7CiAgICAgIHlpZWxkIHsKICAgICAgICByZXNwb25zZTogewogICAgICAgICAgYWN0aW9uOiAnYXBwZW5kJywKICAgICAgICAgIGZpbGU6IGZpbGUubmFtZSwKICAgICAgICAgIGRhdGE6IGJhc2U2NCwKICAgICAgICB9LAogICAgICB9OwoKICAgICAgbGV0IHBlcmNlbnREb25lID0gZmlsZURhdGEuYnl0ZUxlbmd0aCA9PT0gMCA/CiAgICAgICAgICAxMDAgOgogICAgICAgICAgTWF0aC5yb3VuZCgocG9zaXRpb24gLyBmaWxlRGF0YS5ieXRlTGVuZ3RoKSAqIDEwMCk7CiAgICAgIHBlcmNlbnQudGV4dENvbnRlbnQgPSBgJHtwZXJjZW50RG9uZX0lIGRvbmVgOwoKICAgIH0gd2hpbGUgKHBvc2l0aW9uIDwgZmlsZURhdGEuYnl0ZUxlbmd0aCk7CiAgfQoKICAvLyBBbGwgZG9uZS4KICB5aWVsZCB7CiAgICByZXNwb25zZTogewogICAgICBhY3Rpb246ICdjb21wbGV0ZScsCiAgICB9CiAgfTsKfQoKc2NvcGUuZ29vZ2xlID0gc2NvcGUuZ29vZ2xlIHx8IHt9OwpzY29wZS5nb29nbGUuY29sYWIgPSBzY29wZS5nb29nbGUuY29sYWIgfHwge307CnNjb3BlLmdvb2dsZS5jb2xhYi5fZmlsZXMgPSB7CiAgX3VwbG9hZEZpbGVzLAogIF91cGxvYWRGaWxlc0NvbnRpbnVlLAp9Owp9KShzZWxmKTsK",
              "ok": true,
              "headers": [
                [
                  "content-type",
                  "application/javascript"
                ]
              ],
              "status": 200,
              "status_text": ""
            }
          },
          "base_uri": "https://localhost:8080/",
          "height": 91
        }
      },
      "source": [
        "# import colab libraries\n",
        "from google.colab import files\n",
        "# import kaggle json to connect to kaggle user account to download datsets\n",
        "files.upload()"
      ],
      "execution_count": 2,
      "outputs": [
        {
          "output_type": "display_data",
          "data": {
            "text/html": [
              "\n",
              "     <input type=\"file\" id=\"files-c1a19845-263e-4ecb-a70b-d2039e53420b\" name=\"files[]\" multiple disabled\n",
              "        style=\"border:none\" />\n",
              "     <output id=\"result-c1a19845-263e-4ecb-a70b-d2039e53420b\">\n",
              "      Upload widget is only available when the cell has been executed in the\n",
              "      current browser session. Please rerun this cell to enable.\n",
              "      </output>\n",
              "      <script src=\"/nbextensions/google.colab/files.js\"></script> "
            ],
            "text/plain": [
              "<IPython.core.display.HTML object>"
            ]
          },
          "metadata": {}
        },
        {
          "output_type": "stream",
          "name": "stdout",
          "text": [
            "Saving kaggle.json to kaggle.json\n"
          ]
        },
        {
          "output_type": "execute_result",
          "data": {
            "text/plain": [
              "{'kaggle.json': b'{\"username\":\"saansd2003\",\"key\":\"49c2be11dfd314e10999ff432e1eeb65\"}'}"
            ]
          },
          "metadata": {},
          "execution_count": 2
        }
      ]
    },
    {
      "cell_type": "code",
      "metadata": {
        "id": "cKcHe7ra_DBu"
      },
      "source": [
        "# The Kaggle API client expects this file to be in ~/.kaggle,\n",
        "# so lets move it there.\n",
        "!mkdir ~/.kaggle\n",
        "!cp kaggle.json ~/.kaggle/"
      ],
      "execution_count": 3,
      "outputs": []
    },
    {
      "cell_type": "code",
      "metadata": {
        "id": "4teMjW-3_FvP"
      },
      "source": [
        "# This permissions change avoids a warning on Kaggle tool startup.\n",
        "!chmod 600 ~/.kaggle/kaggle.json"
      ],
      "execution_count": 4,
      "outputs": []
    },
    {
      "cell_type": "code",
      "metadata": {
        "id": "g8fguQby_Hyi",
        "outputId": "58314bf7-cfe3-47c3-d056-2adb5a357fe6",
        "colab": {
          "base_uri": "https://localhost:8080/"
        }
      },
      "source": [
        "# download our dataset\n",
        "!kaggle competitions download -c 'landmark-recognition-2021' -f train.csv -path \"landmark-recognition-2021\""
      ],
      "execution_count": 11,
      "outputs": [
        {
          "output_type": "stream",
          "name": "stdout",
          "text": [
            "Downloading train.csv.zip to ath\n",
            "\r  0% 0.00/16.8M [00:00<?, ?B/s]\r 30% 5.00M/16.8M [00:00<00:00, 27.8MB/s]\n",
            "\r100% 16.8M/16.8M [00:00<00:00, 78.8MB/s]\n"
          ]
        }
      ]
    },
    {
      "cell_type": "code",
      "metadata": {
        "id": "HIqKmn8NrzX-",
        "outputId": "1adb2561-32e6-493e-a5fc-54aa19641788",
        "colab": {
          "base_uri": "https://localhost:8080/"
        }
      },
      "source": [
        "!mkdir landmark-recognition-2021\n",
        "!mv train.csv.zip landmark-recognition-2021/train.csv.zip\n",
        "!unzip landmark-recognition-2021/train.csv.zip -d landmark-recognition-2021/train.csv"
      ],
      "execution_count": 6,
      "outputs": [
        {
          "output_type": "stream",
          "name": "stdout",
          "text": [
            "Archive:  landmark-recognition-2021/train.csv.zip\n",
            "  inflating: landmark-recognition-2021/train.csv/train.csv  \n"
          ]
        }
      ]
    },
    {
      "cell_type": "code",
      "metadata": {
        "id": "q777piwssYYt",
        "outputId": "9a050876-aa88-4593-efc2-bd143ed11350",
        "colab": {
          "base_uri": "https://localhost:8080/"
        }
      },
      "source": [
        "!kaggle competitions download -c 'landmark-recognition-2021' -f "
      ],
      "execution_count": 8,
      "outputs": [
        {
          "output_type": "stream",
          "name": "stdout",
          "text": [
            "404 - Not Found\n"
          ]
        }
      ]
    },
    {
      "cell_type": "code",
      "metadata": {
        "id": "kgplbS1c_KX5"
      },
      "source": [
        "# unzip training set to `train` folder\n",
        "!unzip landmark-recognition-2021.zip \"train.csv\" -d landmark-recognition-2021\n",
        "!unzip landmark-recognition-2021.zip \"train/*\" -d landmark-recognition-2021"
      ],
      "execution_count": null,
      "outputs": []
    },
    {
      "cell_type": "code",
      "metadata": {
        "id": "lXXXSuGCqWnt"
      },
      "source": [
        "# delete the zip file\n",
        "!rm landmark-recognition-2021.zip"
      ],
      "execution_count": null,
      "outputs": []
    },
    {
      "cell_type": "code",
      "metadata": {
        "id": "KSbquQdE_1Ls"
      },
      "source": [
        "# create output dir\n",
        "!mkdir models"
      ],
      "execution_count": null,
      "outputs": []
    },
    {
      "cell_type": "code",
      "metadata": {
        "_uuid": "8f2839f25d086af736a60e9eeb907d3b93b6e0e5",
        "_cell_guid": "b1076dfc-b9ad-4769-8c92-a6c4dae69d19",
        "execution": {
          "iopub.status.busy": "2021-09-07T08:45:12.615480Z",
          "iopub.execute_input": "2021-09-07T08:45:12.616257Z",
          "iopub.status.idle": "2021-09-07T08:45:12.638588Z",
          "shell.execute_reply.started": "2021-09-07T08:45:12.616136Z",
          "shell.execute_reply": "2021-09-07T08:45:12.637620Z"
        },
        "trusted": true,
        "id": "MDaexXqsv2aD"
      },
      "source": [
        "# This Python 3 environment comes with many helpful analytics libraries installed\n",
        "# It is defined by the kaggle/python Docker image: https://github.com/kaggle/docker-python\n",
        "# For example, here's several helpful packages to load\n",
        "\n",
        "import numpy as np # linear algebra\n",
        "import pandas as pd # data processing, CSV file I/O (e.g. pd.read_csv)\n",
        "from datetime import datetime\n",
        "cur_time = datetime.now().strftime(\"%Y%m%d%H%M%S\")\n",
        "print(f\"Run time {cur_time}\")\n",
        "# Input data files are available in the read-only \"../input/\" directory\n",
        "# For example, running this (by clicking run or pressing Shift+Enter) will list all files under the input directory\n",
        "\n",
        "import os\n",
        "for i, (dirname, _, filenames) in enumerate(os.walk('/kaggle/input')):\n",
        "    for filename in filenames:\n",
        "        print(os.path.join(dirname, filename))\n",
        "    if i > 1: break\n",
        "\n",
        "# You can write up to 20GB to the current directory (/kaggle/working/) that gets preserved as output when you create a version using \"Save & Run All\" \n",
        "# You can also write temporary files to /kaggle/temp/, but they won't be saved outside of the current session"
      ],
      "execution_count": null,
      "outputs": []
    },
    {
      "cell_type": "code",
      "metadata": {
        "execution": {
          "iopub.status.busy": "2021-09-07T08:45:12.640240Z",
          "iopub.execute_input": "2021-09-07T08:45:12.640593Z",
          "iopub.status.idle": "2021-09-07T08:45:12.647866Z",
          "shell.execute_reply.started": "2021-09-07T08:45:12.640557Z",
          "shell.execute_reply": "2021-09-07T08:45:12.647033Z"
        },
        "trusted": true,
        "id": "pJpe1yG4v2aI"
      },
      "source": [
        "os.getcwd()"
      ],
      "execution_count": null,
      "outputs": []
    },
    {
      "cell_type": "code",
      "metadata": {
        "execution": {
          "iopub.status.busy": "2021-09-07T08:45:12.652890Z",
          "iopub.execute_input": "2021-09-07T08:45:12.653175Z",
          "iopub.status.idle": "2021-09-07T08:45:12.658037Z",
          "shell.execute_reply.started": "2021-09-07T08:45:12.653152Z",
          "shell.execute_reply": "2021-09-07T08:45:12.656332Z"
        },
        "trusted": true,
        "id": "TfTsfAVSv2aJ"
      },
      "source": [
        "base_data_dir = '/content/landmark-recognition-2021/'\n",
        "train_dir = 'train'\n",
        "test_dir = 'test'\n",
        "output_dir = '/content/'\n",
        "output_model_dir = 'models'"
      ],
      "execution_count": null,
      "outputs": []
    },
    {
      "cell_type": "code",
      "metadata": {
        "execution": {
          "iopub.status.busy": "2021-09-07T08:45:12.672138Z",
          "iopub.execute_input": "2021-09-07T08:45:12.672375Z",
          "iopub.status.idle": "2021-09-07T08:45:14.062838Z",
          "shell.execute_reply.started": "2021-09-07T08:45:12.672353Z",
          "shell.execute_reply": "2021-09-07T08:45:14.061927Z"
        },
        "trusted": true,
        "id": "YEI7GoA6v2aJ"
      },
      "source": [
        "train_csv = pd.read_csv(base_data_dir +'/train.csv')\n",
        "train_csv.head()"
      ],
      "execution_count": null,
      "outputs": []
    },
    {
      "cell_type": "code",
      "metadata": {
        "execution": {
          "iopub.status.busy": "2021-09-07T08:45:14.064496Z",
          "iopub.execute_input": "2021-09-07T08:45:14.064841Z",
          "iopub.status.idle": "2021-09-07T08:45:14.091591Z",
          "shell.execute_reply.started": "2021-09-07T08:45:14.064803Z",
          "shell.execute_reply": "2021-09-07T08:45:14.090643Z"
        },
        "trusted": true,
        "id": "_AFWJLXIv2aK"
      },
      "source": [
        "len(train_csv.landmark_id.unique())"
      ],
      "execution_count": null,
      "outputs": []
    },
    {
      "cell_type": "code",
      "metadata": {
        "execution": {
          "iopub.status.busy": "2021-09-07T08:45:14.093453Z",
          "iopub.execute_input": "2021-09-07T08:45:14.093828Z",
          "iopub.status.idle": "2021-09-07T08:45:17.871358Z",
          "shell.execute_reply.started": "2021-09-07T08:45:14.093776Z",
          "shell.execute_reply": "2021-09-07T08:45:17.869803Z"
        },
        "trusted": true,
        "id": "u_yV0QNWv2aK"
      },
      "source": [
        "def add_file_path(df, train_test_dir, return_order = ['id','path','landmark_id']):\n",
        "    df['path'] = df['id'].apply(lambda x:train_test_dir + '/' +\\\n",
        "                                '/'.join(x[0:3]) + '/' + x + '.jpg')\n",
        "    df['landmark_id'] = df['landmark_id'].astype(str)\n",
        "    return df[return_order]\n",
        "train_csv = add_file_path(train_csv, train_test_dir = train_dir)\n",
        "train_csv.head()"
      ],
      "execution_count": null,
      "outputs": []
    },
    {
      "cell_type": "code",
      "metadata": {
        "execution": {
          "iopub.status.busy": "2021-09-07T08:45:17.873045Z",
          "iopub.execute_input": "2021-09-07T08:45:17.873429Z",
          "iopub.status.idle": "2021-09-07T08:46:25.270053Z",
          "shell.execute_reply.started": "2021-09-07T08:45:17.873393Z",
          "shell.execute_reply": "2021-09-07T08:46:25.269267Z"
        },
        "trusted": true,
        "id": "ztRO7VwFv2aL"
      },
      "source": [
        "from sklearn.model_selection import StratifiedKFold\n",
        "tr_ids, val_ids = next(StratifiedKFold(n_splits=5).split(train_csv.id, train_csv.landmark_id))\n",
        "len(val_ids),len(tr_ids),len(train_csv)"
      ],
      "execution_count": null,
      "outputs": []
    },
    {
      "cell_type": "code",
      "metadata": {
        "execution": {
          "iopub.status.busy": "2021-09-07T08:46:25.271313Z",
          "iopub.execute_input": "2021-09-07T08:46:25.271646Z",
          "iopub.status.idle": "2021-09-07T08:49:55.886049Z",
          "shell.execute_reply.started": "2021-09-07T08:46:25.271610Z",
          "shell.execute_reply": "2021-09-07T08:49:55.884971Z"
        },
        "trusted": true,
        "id": "OYPNMWdOv2aM"
      },
      "source": [
        "dummy = [False] * len(train_csv)\n",
        "is_valid = [value if index not in val_ids else True for index, value in enumerate(dummy)]\n",
        "sum(is_valid)"
      ],
      "execution_count": null,
      "outputs": []
    },
    {
      "cell_type": "code",
      "metadata": {
        "execution": {
          "iopub.status.busy": "2021-09-07T08:49:55.887466Z",
          "iopub.execute_input": "2021-09-07T08:49:55.888014Z",
          "iopub.status.idle": "2021-09-07T08:49:56.068729Z",
          "shell.execute_reply.started": "2021-09-07T08:49:55.887973Z",
          "shell.execute_reply": "2021-09-07T08:49:56.067785Z"
        },
        "trusted": true,
        "id": "wCJXfaX_v2aM"
      },
      "source": [
        "train_csv['is_valid'] = is_valid\n",
        "train_csv.head()"
      ],
      "execution_count": null,
      "outputs": []
    },
    {
      "cell_type": "code",
      "metadata": {
        "execution": {
          "iopub.status.busy": "2021-09-07T08:49:56.070171Z",
          "iopub.execute_input": "2021-09-07T08:49:56.070512Z",
          "iopub.status.idle": "2021-09-07T08:49:56.481004Z",
          "shell.execute_reply.started": "2021-09-07T08:49:56.070475Z",
          "shell.execute_reply": "2021-09-07T08:49:56.480094Z"
        },
        "trusted": true,
        "id": "RwlOclX3v2aN"
      },
      "source": [
        "cound_df = train_csv['landmark_id'].value_counts()\n",
        "sample_ids = cound_df[:300].index.tolist()"
      ],
      "execution_count": null,
      "outputs": []
    },
    {
      "cell_type": "code",
      "metadata": {
        "execution": {
          "iopub.status.busy": "2021-09-07T08:49:56.483811Z",
          "iopub.execute_input": "2021-09-07T08:49:56.484210Z",
          "iopub.status.idle": "2021-09-07T08:49:56.598564Z",
          "shell.execute_reply.started": "2021-09-07T08:49:56.484174Z",
          "shell.execute_reply": "2021-09-07T08:49:56.597573Z"
        },
        "trusted": true,
        "id": "9r6HVOvlv2aN"
      },
      "source": [
        "train_csv_sample = train_csv.loc[train_csv['landmark_id'].\\\n",
        "                                 isin([str(i) for i in sample_ids]),:]\n",
        "# train_csv_sample['landmark_id'].value_counts().plot.bar()\n",
        "len(train_csv), len(train_csv_sample)"
      ],
      "execution_count": null,
      "outputs": []
    },
    {
      "cell_type": "markdown",
      "metadata": {
        "id": "m8q5uuu0v2aO"
      },
      "source": [
        "## Data loader on sample data"
      ]
    },
    {
      "cell_type": "code",
      "metadata": {
        "execution": {
          "iopub.status.busy": "2021-09-07T08:49:56.600466Z",
          "iopub.execute_input": "2021-09-07T08:49:56.600842Z",
          "iopub.status.idle": "2021-09-07T08:49:58.308469Z",
          "shell.execute_reply.started": "2021-09-07T08:49:56.600805Z",
          "shell.execute_reply": "2021-09-07T08:49:58.307682Z"
        },
        "trusted": true,
        "id": "4PdgE3hyv2aP"
      },
      "source": [
        "from fastai.vision.all import *\n",
        "from fastai.callback.fp16 import *"
      ],
      "execution_count": null,
      "outputs": []
    },
    {
      "cell_type": "code",
      "metadata": {
        "execution": {
          "iopub.status.busy": "2021-09-07T08:49:58.309763Z",
          "iopub.execute_input": "2021-09-07T08:49:58.310094Z",
          "iopub.status.idle": "2021-09-07T08:50:02.474523Z",
          "shell.execute_reply.started": "2021-09-07T08:49:58.310061Z",
          "shell.execute_reply": "2021-09-07T08:50:02.473693Z"
        },
        "trusted": true,
        "id": "mZMh4NQSv2aP"
      },
      "source": [
        "train_db = DataBlock(blocks=(ImageBlock, CategoryBlock),\n",
        "                   splitter=ColSplitter(), # is there a stratified way?\n",
        "                   get_x=ColReader(1,pref=base_data_dir + '/'),\n",
        "                   get_y=ColReader(2),\n",
        "                   item_tfms=Resize(460),\n",
        "                   batch_tfms=[*aug_transforms(size=224, min_scale=0.75),\n",
        "                               Normalize.from_stats(*imagenet_stats)])"
      ],
      "execution_count": null,
      "outputs": []
    },
    {
      "cell_type": "code",
      "metadata": {
        "execution": {
          "iopub.status.busy": "2021-09-07T08:50:02.475912Z",
          "iopub.execute_input": "2021-09-07T08:50:02.476242Z",
          "iopub.status.idle": "2021-09-07T08:50:20.341731Z",
          "shell.execute_reply.started": "2021-09-07T08:50:02.476208Z",
          "shell.execute_reply": "2021-09-07T08:50:20.340682Z"
        },
        "trusted": true,
        "id": "Jt2hbgyIv2aQ"
      },
      "source": [
        "dls = train_db.dataloaders(train_csv_sample)\n",
        "dls.show_batch(max_n=20, figsize=(15,15))\n",
        "# dls = train_db.dataloaders(train_csv)\n",
        "# dls.show_batch(max_n=20, figsize=(15,15))"
      ],
      "execution_count": null,
      "outputs": []
    },
    {
      "cell_type": "markdown",
      "metadata": {
        "id": "WyswBBmQv2aQ"
      },
      "source": [
        "## Initial model on sample data"
      ]
    },
    {
      "cell_type": "code",
      "metadata": {
        "execution": {
          "iopub.status.busy": "2021-09-07T08:50:20.342881Z",
          "iopub.execute_input": "2021-09-07T08:50:20.343195Z",
          "iopub.status.idle": "2021-09-07T08:50:20.348008Z",
          "shell.execute_reply.started": "2021-09-07T08:50:20.343165Z",
          "shell.execute_reply": "2021-09-07T08:50:20.346151Z"
        },
        "trusted": true,
        "id": "HkrJGnaFv2aQ"
      },
      "source": [
        "# learn_sample_34 = cnn_learner(dls_sample, resnet34, metrics=Precision(average='micro'))\n",
        "# learn_sample.fine_tune(2)"
      ],
      "execution_count": null,
      "outputs": []
    },
    {
      "cell_type": "markdown",
      "metadata": {
        "id": "JODunIT4v2aQ"
      },
      "source": [
        "## ResNet 34"
      ]
    },
    {
      "cell_type": "code",
      "metadata": {
        "execution": {
          "iopub.status.busy": "2021-09-07T08:50:20.349492Z",
          "iopub.execute_input": "2021-09-07T08:50:20.349877Z",
          "iopub.status.idle": "2021-09-07T08:50:20.357147Z",
          "shell.execute_reply.started": "2021-09-07T08:50:20.349840Z",
          "shell.execute_reply": "2021-09-07T08:50:20.356128Z"
        },
        "trusted": true,
        "id": "gkoJocCZv2aR"
      },
      "source": [
        "# learn_sample_34 = cnn_learner(dls_sample, resnet34,\n",
        "#                               metrics=Precision(average='micro'))#.to_fp16()\n",
        "# lr_min,lr_steep = learn_sample_34.lr_find()"
      ],
      "execution_count": null,
      "outputs": []
    },
    {
      "cell_type": "code",
      "metadata": {
        "execution": {
          "iopub.status.busy": "2021-09-07T08:50:20.358608Z",
          "iopub.execute_input": "2021-09-07T08:50:20.359087Z",
          "iopub.status.idle": "2021-09-07T08:50:20.366275Z",
          "shell.execute_reply.started": "2021-09-07T08:50:20.359049Z",
          "shell.execute_reply": "2021-09-07T08:50:20.365279Z"
        },
        "trusted": true,
        "id": "mXj3nziwv2aR"
      },
      "source": [
        "# print(f\"Minimum/10: {lr_min:.2e}, steepest point: {lr_steep:.2e}\")\n",
        "# lr_use = (lr_min + lr_steep) / 2\n",
        "# print(f\"LR to be used/10: {lr_use:.2e}\")"
      ],
      "execution_count": null,
      "outputs": []
    },
    {
      "cell_type": "code",
      "metadata": {
        "execution": {
          "iopub.status.busy": "2021-09-07T08:50:20.367641Z",
          "iopub.execute_input": "2021-09-07T08:50:20.368061Z",
          "iopub.status.idle": "2021-09-07T08:50:20.375377Z",
          "shell.execute_reply.started": "2021-09-07T08:50:20.368029Z",
          "shell.execute_reply": "2021-09-07T08:50:20.374418Z"
        },
        "trusted": true,
        "id": "rurw1g6hv2aR"
      },
      "source": [
        "# learn_sample_34.fit_one_cycle(5, lr_use)"
      ],
      "execution_count": null,
      "outputs": []
    },
    {
      "cell_type": "code",
      "metadata": {
        "execution": {
          "iopub.status.busy": "2021-09-07T08:50:20.376908Z",
          "iopub.execute_input": "2021-09-07T08:50:20.377331Z",
          "iopub.status.idle": "2021-09-07T08:50:20.384230Z",
          "shell.execute_reply.started": "2021-09-07T08:50:20.377298Z",
          "shell.execute_reply": "2021-09-07T08:50:20.383096Z"
        },
        "trusted": true,
        "id": "xg_t5n03v2aR"
      },
      "source": [
        "# learn_sample_34.unfreeze()"
      ],
      "execution_count": null,
      "outputs": []
    },
    {
      "cell_type": "code",
      "metadata": {
        "execution": {
          "iopub.status.busy": "2021-09-07T08:50:20.385634Z",
          "iopub.execute_input": "2021-09-07T08:50:20.386089Z",
          "iopub.status.idle": "2021-09-07T08:50:20.393243Z",
          "shell.execute_reply.started": "2021-09-07T08:50:20.386057Z",
          "shell.execute_reply": "2021-09-07T08:50:20.392159Z"
        },
        "trusted": true,
        "id": "A96S1jXkv2aS"
      },
      "source": [
        "# lr_min,lr_steep = learn_sample_34.lr_find()\n",
        "# print(f\"Minimum/10: {lr_min:.2e}, steepest point: {lr_steep:.2e}\")"
      ],
      "execution_count": null,
      "outputs": []
    },
    {
      "cell_type": "code",
      "metadata": {
        "execution": {
          "iopub.status.busy": "2021-09-07T08:50:20.394569Z",
          "iopub.execute_input": "2021-09-07T08:50:20.395035Z",
          "iopub.status.idle": "2021-09-07T08:50:20.402524Z",
          "shell.execute_reply.started": "2021-09-07T08:50:20.395002Z",
          "shell.execute_reply": "2021-09-07T08:50:20.401415Z"
        },
        "trusted": true,
        "id": "SKs5fsxsv2aS"
      },
      "source": [
        "# learn_sample_34.fit_one_cycle(10, lr_max=slice(lr_steep,lr_min))"
      ],
      "execution_count": null,
      "outputs": []
    },
    {
      "cell_type": "code",
      "metadata": {
        "execution": {
          "iopub.status.busy": "2021-09-07T08:50:20.403985Z",
          "iopub.execute_input": "2021-09-07T08:50:20.404442Z",
          "iopub.status.idle": "2021-09-07T08:50:20.411912Z",
          "shell.execute_reply.started": "2021-09-07T08:50:20.404408Z",
          "shell.execute_reply": "2021-09-07T08:50:20.410610Z"
        },
        "trusted": true,
        "id": "tNSMrfftv2aS"
      },
      "source": [
        "# learn_sample_34.recorder.plot_loss()"
      ],
      "execution_count": null,
      "outputs": []
    },
    {
      "cell_type": "markdown",
      "metadata": {
        "id": "rY0s9B57v2aS"
      },
      "source": [
        "### Model interpretation for the sample model"
      ]
    },
    {
      "cell_type": "code",
      "metadata": {
        "execution": {
          "iopub.status.busy": "2021-09-07T08:50:20.413436Z",
          "iopub.execute_input": "2021-09-07T08:50:20.413847Z",
          "iopub.status.idle": "2021-09-07T08:50:20.421014Z",
          "shell.execute_reply.started": "2021-09-07T08:50:20.413811Z",
          "shell.execute_reply": "2021-09-07T08:50:20.420067Z"
        },
        "trusted": true,
        "id": "nrOfNgyJv2aS"
      },
      "source": [
        "# interp_34 = ClassificationInterpretation.from_learner(learn_sample_34)\n",
        "# interp_34.plot_confusion_matrix(figsize=(12,12), dpi=60)"
      ],
      "execution_count": null,
      "outputs": []
    },
    {
      "cell_type": "code",
      "metadata": {
        "execution": {
          "iopub.status.busy": "2021-09-07T08:50:20.423876Z",
          "iopub.execute_input": "2021-09-07T08:50:20.424170Z",
          "iopub.status.idle": "2021-09-07T08:50:20.432449Z",
          "shell.execute_reply.started": "2021-09-07T08:50:20.424147Z",
          "shell.execute_reply": "2021-09-07T08:50:20.431696Z"
        },
        "trusted": true,
        "id": "E0oqttH5v2aT"
      },
      "source": [
        "# interp_34.most_confused(min_val=5)"
      ],
      "execution_count": null,
      "outputs": []
    },
    {
      "cell_type": "code",
      "metadata": {
        "execution": {
          "iopub.status.busy": "2021-09-07T08:50:20.433757Z",
          "iopub.execute_input": "2021-09-07T08:50:20.434400Z",
          "iopub.status.idle": "2021-09-07T08:50:20.441315Z",
          "shell.execute_reply.started": "2021-09-07T08:50:20.434345Z",
          "shell.execute_reply": "2021-09-07T08:50:20.440387Z"
        },
        "trusted": true,
        "id": "RHTg6a0Vv2aT"
      },
      "source": [
        "# interp_34.plot_top_losses(10, nrows=5)"
      ],
      "execution_count": null,
      "outputs": []
    },
    {
      "cell_type": "markdown",
      "metadata": {
        "id": "q0s-m9Lvv2aT"
      },
      "source": [
        "### Save model"
      ]
    },
    {
      "cell_type": "code",
      "metadata": {
        "execution": {
          "iopub.status.busy": "2021-09-07T08:50:20.445889Z",
          "iopub.execute_input": "2021-09-07T08:50:20.446167Z",
          "iopub.status.idle": "2021-09-07T08:50:20.449992Z",
          "shell.execute_reply.started": "2021-09-07T08:50:20.446144Z",
          "shell.execute_reply": "2021-09-07T08:50:20.449094Z"
        },
        "trusted": true,
        "id": "UpXkWNJav2aT"
      },
      "source": [
        "# from pathlib import Path\n",
        "# learn_sample_34.export(Path(f\"{output_dir}/{output_model_dir}/landmark-recognition-2021_res34_{cur_time}.pkl\"))"
      ],
      "execution_count": null,
      "outputs": []
    },
    {
      "cell_type": "markdown",
      "metadata": {
        "id": "0maSYeo9v2aT"
      },
      "source": [
        "## ResNet50"
      ]
    },
    {
      "cell_type": "code",
      "metadata": {
        "execution": {
          "iopub.status.busy": "2021-09-07T08:50:20.452315Z",
          "iopub.execute_input": "2021-09-07T08:50:20.452702Z",
          "iopub.status.idle": "2021-09-07T08:51:56.499671Z",
          "shell.execute_reply.started": "2021-09-07T08:50:20.452624Z",
          "shell.execute_reply": "2021-09-07T08:51:56.498079Z"
        },
        "trusted": true,
        "id": "LHalueO-v2aT"
      },
      "source": [
        "# learn_sample_50 = cnn_learner(dls_sample, resnet50,\n",
        "#                               metrics=Precision(average='micro'))#.to_fp16()\n",
        "# lr_min,lr_steep = learn_sample_50.lr_find()\n",
        "learn_res_50 = cnn_learner(dls, resnet50,\n",
        "                              metrics=Precision(average='micro')).to_fp16()\n",
        "lr_min,lr_steep = learn_res_50.lr_find()"
      ],
      "execution_count": null,
      "outputs": []
    },
    {
      "cell_type": "code",
      "metadata": {
        "execution": {
          "iopub.status.busy": "2021-09-07T08:51:56.501137Z",
          "iopub.execute_input": "2021-09-07T08:51:56.501490Z",
          "iopub.status.idle": "2021-09-07T08:51:56.507517Z",
          "shell.execute_reply.started": "2021-09-07T08:51:56.501452Z",
          "shell.execute_reply": "2021-09-07T08:51:56.506485Z"
        },
        "trusted": true,
        "id": "XfvXX9ZPv2aU"
      },
      "source": [
        "print(f\"Minimum/10: {lr_min:.2e}, steepest point: {lr_steep:.2e}\")\n",
        "lr_use = (lr_min + lr_steep) / 2\n",
        "print(f\"LR to be used/10: {lr_use:.2e}\")"
      ],
      "execution_count": null,
      "outputs": []
    },
    {
      "cell_type": "code",
      "metadata": {
        "execution": {
          "iopub.status.busy": "2021-09-07T08:51:56.508792Z",
          "iopub.execute_input": "2021-09-07T08:51:56.509311Z",
          "iopub.status.idle": "2021-09-07T10:14:55.530978Z",
          "shell.execute_reply.started": "2021-09-07T08:51:56.509270Z",
          "shell.execute_reply": "2021-09-07T10:14:55.530128Z"
        },
        "trusted": true,
        "id": "C6Nw8_F4v2aU"
      },
      "source": [
        "# learn_sample = cnn_learner(dls_sample, resnet34, metrics=Precision(average='micro'))\n",
        "learn_res_50.fit_one_cycle(3, lr_use)"
      ],
      "execution_count": null,
      "outputs": []
    },
    {
      "cell_type": "code",
      "metadata": {
        "execution": {
          "iopub.status.busy": "2021-09-07T10:14:55.532571Z",
          "iopub.execute_input": "2021-09-07T10:14:55.532951Z",
          "iopub.status.idle": "2021-09-07T10:14:55.539666Z",
          "shell.execute_reply.started": "2021-09-07T10:14:55.532909Z",
          "shell.execute_reply": "2021-09-07T10:14:55.538787Z"
        },
        "trusted": true,
        "id": "aGpJXsxkv2aU"
      },
      "source": [
        "learn_res_50.unfreeze()"
      ],
      "execution_count": null,
      "outputs": []
    },
    {
      "cell_type": "code",
      "metadata": {
        "execution": {
          "iopub.status.busy": "2021-09-07T10:14:55.541259Z",
          "iopub.execute_input": "2021-09-07T10:14:55.541863Z",
          "iopub.status.idle": "2021-09-07T10:16:07.213766Z",
          "shell.execute_reply.started": "2021-09-07T10:14:55.541824Z",
          "shell.execute_reply": "2021-09-07T10:16:07.212919Z"
        },
        "trusted": true,
        "id": "JM2KsUasv2aU"
      },
      "source": [
        "lr_min,lr_steep = learn_res_50.lr_find()\n",
        "print(f\"Minimum/10: {lr_min:.2e}, steepest point: {lr_steep:.2e}\")"
      ],
      "execution_count": null,
      "outputs": []
    },
    {
      "cell_type": "code",
      "metadata": {
        "execution": {
          "iopub.status.busy": "2021-09-07T10:16:07.215185Z",
          "iopub.execute_input": "2021-09-07T10:16:07.215582Z",
          "iopub.status.idle": "2021-09-07T11:54:43.472914Z",
          "shell.execute_reply.started": "2021-09-07T10:16:07.215541Z",
          "shell.execute_reply": "2021-09-07T11:54:43.469157Z"
        },
        "trusted": true,
        "id": "YfHc2Rtsv2aV"
      },
      "source": [
        "learn_res_50.fit_one_cycle(10, lr_max=slice(lr_steep,lr_min))"
      ],
      "execution_count": null,
      "outputs": []
    },
    {
      "cell_type": "code",
      "metadata": {
        "execution": {
          "iopub.status.busy": "2021-09-07T11:54:51.730590Z",
          "iopub.execute_input": "2021-09-07T11:54:51.730943Z",
          "iopub.status.idle": "2021-09-07T11:54:52.027580Z",
          "shell.execute_reply.started": "2021-09-07T11:54:51.730887Z",
          "shell.execute_reply": "2021-09-07T11:54:52.026636Z"
        },
        "trusted": true,
        "id": "7prIIXCcv2aV"
      },
      "source": [
        "learn_res_50.recorder.plot_loss()"
      ],
      "execution_count": null,
      "outputs": []
    },
    {
      "cell_type": "markdown",
      "metadata": {
        "id": "kaUvohzzv2aV"
      },
      "source": [
        "### Model interpretation for the sample model"
      ]
    },
    {
      "cell_type": "code",
      "metadata": {
        "execution": {
          "iopub.status.busy": "2021-09-07T11:55:01.695452Z",
          "iopub.execute_input": "2021-09-07T11:55:01.695772Z"
        },
        "trusted": true,
        "id": "x6dBVknmv2aV"
      },
      "source": [
        "interp_50 = ClassificationInterpretation.from_learner(learn_res_50)\n",
        "interp_50.plot_confusion_matrix(figsize=(12,12), dpi=60)"
      ],
      "execution_count": null,
      "outputs": []
    },
    {
      "cell_type": "code",
      "metadata": {
        "trusted": true,
        "id": "B7UvDdMhv2aV"
      },
      "source": [
        "interp_50.most_confused(min_val=5)"
      ],
      "execution_count": null,
      "outputs": []
    },
    {
      "cell_type": "code",
      "metadata": {
        "trusted": true,
        "id": "xh-9lKecv2aV"
      },
      "source": [
        "interp_50.plot_top_losses(10, nrows=5)"
      ],
      "execution_count": null,
      "outputs": []
    },
    {
      "cell_type": "markdown",
      "metadata": {
        "id": "Da_g4cjxv2aV"
      },
      "source": [
        "### Save model"
      ]
    },
    {
      "cell_type": "code",
      "metadata": {
        "trusted": true,
        "id": "3rTKCWqav2aV"
      },
      "source": [
        "learn_res_50.export(Path(f\"{output_dir}/{output_model_dir}/landmark-recognition-2021_res50_{cur_time}.pkl\"))"
      ],
      "execution_count": null,
      "outputs": []
    },
    {
      "cell_type": "markdown",
      "metadata": {
        "id": "tlhBIkJ9v2aW"
      },
      "source": [
        "## Inference"
      ]
    },
    {
      "cell_type": "code",
      "metadata": {
        "trusted": true,
        "id": "WU3THkELv2aW"
      },
      "source": [
        "cat_list = learn_res_50.dls.vocab\n",
        "cat_list"
      ],
      "execution_count": null,
      "outputs": []
    },
    {
      "cell_type": "code",
      "metadata": {
        "trusted": true,
        "id": "2ZrwQq2_v2aW"
      },
      "source": [
        "# pred_tensor = learn_res_50.predict(base_data_dir + '/' + test_dir+ '/'+'0/0/0/00084cdf8f600d00.jpg')\n",
        "# f\"{pred_tensor[0]} {pred_tensor[2].tolist()[pred_tensor[1].tolist()]}\""
      ],
      "execution_count": null,
      "outputs": []
    },
    {
      "cell_type": "code",
      "metadata": {
        "trusted": true,
        "id": "DAVg7AcKv2aW"
      },
      "source": [
        "# def get_inference_df(model, root_test_dir):\n",
        "#     pred_list=[]\n",
        "#     for dirname, _, filenames in os.walk(root_test_dir):\n",
        "#         for filename in filenames:\n",
        "#             pred_tensor = model.predict(os.path.join(dirname, filename))\n",
        "#             pred_list.append((filename.split('.')[0],\n",
        "#                               f\"{pred_tensor[0]} {pred_tensor[2].tolist()[pred_tensor[1].tolist()]}\"))\n",
        "# #         if len(pred_list)>0: break\n",
        "#     return pd.DataFrame(pred_list, columns=['id','landmarks'])\n",
        "\n",
        "def get_predicted_data(learner, test_df, cat_list):\n",
        "    test_dl = learner.dls.test_dl(test_df)\n",
        "    prob_tensor, _, pred_tensor = learner.get_preds(dl = test_dl, with_decoded=True)\n",
        "    pred_list = [f\"{cat_list[pred_idx]} {prob_idx[pred_idx]}\" \n",
        "                 for pred_idx, prob_idx in zip(pred_tensor,prob_tensor)]\n",
        "    \n",
        "    test_df['landmarks'] = pred_list\n",
        "    return test_df\n",
        "    \n",
        "\n",
        "def get_inference_df(root_test_dir):\n",
        "    path_list=[]\n",
        "    for dirname, _, filenames in os.walk(root_test_dir):\n",
        "        for filename in filenames:\n",
        "            path_list.append((filename.split('.')[0],'0'))\n",
        "#         if len(path_list)>0: break\n",
        "    return pd.DataFrame(path_list, columns=['id','landmark_id'])\n",
        "    "
      ],
      "execution_count": null,
      "outputs": []
    },
    {
      "cell_type": "code",
      "metadata": {
        "trusted": true,
        "id": "l_4daxghv2aW"
      },
      "source": [
        "test_df = get_inference_df(base_data_dir + '/' + test_dir+ '/')\n",
        "test_df = add_file_path(test_df, test_dir)\n",
        "test_df.head()"
      ],
      "execution_count": null,
      "outputs": []
    },
    {
      "cell_type": "code",
      "metadata": {
        "trusted": true,
        "id": "9ZLPmSFIv2aW"
      },
      "source": [
        "pred_df = get_predicted_data(learn_res_50, test_df, cat_list)\n",
        "pred_df.head()"
      ],
      "execution_count": null,
      "outputs": []
    },
    {
      "cell_type": "code",
      "metadata": {
        "trusted": true,
        "id": "RIrfvwOnv2aW"
      },
      "source": [
        "# pred_df = get_inference_df(learn_sample_50, base_data_dir + '/' + test_dir+ '/')\n",
        "# pred_df.shape"
      ],
      "execution_count": null,
      "outputs": []
    },
    {
      "cell_type": "code",
      "metadata": {
        "trusted": true,
        "id": "2nIW3asSv2aW"
      },
      "source": [
        "pred_df.to_csv(f\"{output_dir}/landmark-recognition-2021_submission_{cur_time}.csv\",\n",
        "               index= False)"
      ],
      "execution_count": null,
      "outputs": []
    },
    {
      "cell_type": "code",
      "metadata": {
        "trusted": true,
        "id": "1MvPh68Ev2aX"
      },
      "source": [
        "# pred_df[['id','landmarks']].to_csv(f\"{output_dir}/submission.csv\",\n",
        "#                index= False)"
      ],
      "execution_count": null,
      "outputs": []
    },
    {
      "cell_type": "code",
      "metadata": {
        "id": "lPfXLdJfv2aX"
      },
      "source": [
        ""
      ],
      "execution_count": null,
      "outputs": []
    },
    {
      "cell_type": "code",
      "metadata": {
        "id": "n22KswTHv2aX"
      },
      "source": [
        ""
      ],
      "execution_count": null,
      "outputs": []
    }
  ]
}