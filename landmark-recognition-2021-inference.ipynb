{
 "cells": [
  {
   "cell_type": "code",
   "execution_count": 1,
   "id": "2bae8a23",
   "metadata": {
    "_cell_guid": "b1076dfc-b9ad-4769-8c92-a6c4dae69d19",
    "_uuid": "8f2839f25d086af736a60e9eeb907d3b93b6e0e5",
    "execution": {
     "iopub.execute_input": "2021-09-06T10:11:20.437303Z",
     "iopub.status.busy": "2021-09-06T10:11:20.430619Z",
     "iopub.status.idle": "2021-09-06T10:11:23.521021Z",
     "shell.execute_reply": "2021-09-06T10:11:23.519849Z",
     "shell.execute_reply.started": "2021-09-06T09:31:32.752382Z"
    },
    "papermill": {
     "duration": 3.105498,
     "end_time": "2021-09-06T10:11:23.521193",
     "exception": false,
     "start_time": "2021-09-06T10:11:20.415695",
     "status": "completed"
    },
    "tags": []
   },
   "outputs": [],
   "source": [
    "# This Python 3 environment comes with many helpful analytics libraries installed\n",
    "# It is defined by the kaggle/python Docker image: https://github.com/kaggle/docker-python\n",
    "# For example, here's several helpful packages to load\n",
    "\n",
    "import numpy as np # linear algebra\n",
    "import pandas as pd # data processing, CSV file I/O (e.g. pd.read_csv)\n",
    "\n",
    "\n",
    "# Input data files are available in the read-only \"../input/\" directory\n",
    "# For example, running this (by clicking run or pressing Shift+Enter) will list all files under the input directory\n",
    "\n",
    "import os\n",
    "# for dirname, _, filenames in os.walk('/kaggle/input'):\n",
    "#     for filename in filenames:\n",
    "#         print(os.path.join(dirname, filename))\n",
    "\n",
    "# You can write up to 20GB to the current directory (/kaggle/working/) that gets preserved as output when you create a version using \"Save & Run All\" \n",
    "# You can also write temporary files to /kaggle/temp/, but they won't be saved outside of the current session\n",
    "\n",
    "from fastai.vision.all import *"
   ]
  },
  {
   "cell_type": "code",
   "execution_count": 2,
   "id": "7520bcea",
   "metadata": {
    "execution": {
     "iopub.execute_input": "2021-09-06T10:11:23.545293Z",
     "iopub.status.busy": "2021-09-06T10:11:23.544619Z",
     "iopub.status.idle": "2021-09-06T10:11:23.548045Z",
     "shell.execute_reply": "2021-09-06T10:11:23.547501Z",
     "shell.execute_reply.started": "2021-09-06T09:31:35.299317Z"
    },
    "papermill": {
     "duration": 0.01732,
     "end_time": "2021-09-06T10:11:23.548183",
     "exception": false,
     "start_time": "2021-09-06T10:11:23.530863",
     "status": "completed"
    },
    "tags": []
   },
   "outputs": [],
   "source": [
    "base_data_dir = '/kaggle/input/landmark-recognition-2021/'\n",
    "train_dir = 'train'\n",
    "test_dir = 'test'\n",
    "output_dir = '/kaggle/working/'\n",
    "output_model_dir = '../input/notebook4a5cf7f230/models'\n",
    "model_name_prefix = 'landmark-recognition-2021_res50'\n",
    "model_timstamp = '20210905154054'"
   ]
  },
  {
   "cell_type": "code",
   "execution_count": 3,
   "id": "83b14108",
   "metadata": {
    "execution": {
     "iopub.execute_input": "2021-09-06T10:11:23.570292Z",
     "iopub.status.busy": "2021-09-06T10:11:23.569640Z",
     "iopub.status.idle": "2021-09-06T10:11:25.893977Z",
     "shell.execute_reply": "2021-09-06T10:11:25.894546Z",
     "shell.execute_reply.started": "2021-09-06T09:31:35.310398Z"
    },
    "papermill": {
     "duration": 2.337959,
     "end_time": "2021-09-06T10:11:25.894738",
     "exception": false,
     "start_time": "2021-09-06T10:11:23.556779",
     "status": "completed"
    },
    "tags": []
   },
   "outputs": [],
   "source": [
    "learner = load_learner(Path(f\"{output_model_dir}/{model_name_prefix}_{model_timstamp}.pkl\"))"
   ]
  },
  {
   "cell_type": "code",
   "execution_count": 4,
   "id": "8765a51d",
   "metadata": {
    "execution": {
     "iopub.execute_input": "2021-09-06T10:11:25.915830Z",
     "iopub.status.busy": "2021-09-06T10:11:25.914829Z",
     "iopub.status.idle": "2021-09-06T10:11:25.925710Z",
     "shell.execute_reply": "2021-09-06T10:11:25.926337Z",
     "shell.execute_reply.started": "2021-09-06T09:31:37.954280Z"
    },
    "papermill": {
     "duration": 0.023195,
     "end_time": "2021-09-06T10:11:25.926539",
     "exception": false,
     "start_time": "2021-09-06T10:11:25.903344",
     "status": "completed"
    },
    "tags": []
   },
   "outputs": [],
   "source": [
    "def add_file_path(df, train_test_dir, return_order = ['id','path','landmark_id']):\n",
    "    df['path'] = df['id'].apply(lambda x:train_test_dir + '/' +\\\n",
    "                                '/'.join(x[0:3]) + '/' + x + '.jpg')\n",
    "    df['landmark_id'] = df['landmark_id'].astype(str)\n",
    "    return df[return_order]\n",
    "\n",
    "def get_predicted_data(learner, test_df, cat_list):\n",
    "    test_dl = learner.dls.test_dl(test_df)\n",
    "    prob_tensor, _, pred_tensor = learner.get_preds(dl = test_dl, with_decoded=True)\n",
    "    pred_list = [f\"{cat_list[pred_idx]} {prob_idx[pred_idx]}\" \n",
    "                 for pred_idx, prob_idx in zip(pred_tensor,prob_tensor)]\n",
    "    \n",
    "    test_df['landmarks'] = pred_list\n",
    "    return test_df\n",
    "    \n",
    "\n",
    "def get_inference_df(root_test_dir):\n",
    "    path_list=[]\n",
    "    for dirname, _, filenames in os.walk(root_test_dir):\n",
    "        for filename in filenames:\n",
    "            path_list.append((filename.split('.')[0],'0'))\n",
    "#         if len(path_list)>0: break\n",
    "    return pd.DataFrame(path_list, columns=['id','landmark_id'])\n",
    "    "
   ]
  },
  {
   "cell_type": "code",
   "execution_count": 5,
   "id": "3ce3cd65",
   "metadata": {
    "execution": {
     "iopub.execute_input": "2021-09-06T10:11:25.949662Z",
     "iopub.status.busy": "2021-09-06T10:11:25.948764Z",
     "iopub.status.idle": "2021-09-06T10:11:38.796575Z",
     "shell.execute_reply": "2021-09-06T10:11:38.795904Z",
     "shell.execute_reply.started": "2021-09-06T09:31:37.963439Z"
    },
    "papermill": {
     "duration": 12.860933,
     "end_time": "2021-09-06T10:11:38.796717",
     "exception": false,
     "start_time": "2021-09-06T10:11:25.935784",
     "status": "completed"
    },
    "tags": []
   },
   "outputs": [
    {
     "data": {
      "text/html": [
       "<div>\n",
       "<style scoped>\n",
       "    .dataframe tbody tr th:only-of-type {\n",
       "        vertical-align: middle;\n",
       "    }\n",
       "\n",
       "    .dataframe tbody tr th {\n",
       "        vertical-align: top;\n",
       "    }\n",
       "\n",
       "    .dataframe thead th {\n",
       "        text-align: right;\n",
       "    }\n",
       "</style>\n",
       "<table border=\"1\" class=\"dataframe\">\n",
       "  <thead>\n",
       "    <tr style=\"text-align: right;\">\n",
       "      <th></th>\n",
       "      <th>id</th>\n",
       "      <th>path</th>\n",
       "      <th>landmark_id</th>\n",
       "    </tr>\n",
       "  </thead>\n",
       "  <tbody>\n",
       "    <tr>\n",
       "      <th>0</th>\n",
       "      <td>777f9efff0fc6b81</td>\n",
       "      <td>test/7/7/7/777f9efff0fc6b81.jpg</td>\n",
       "      <td>0</td>\n",
       "    </tr>\n",
       "    <tr>\n",
       "      <th>1</th>\n",
       "      <td>7774e44062fbd8bc</td>\n",
       "      <td>test/7/7/7/7774e44062fbd8bc.jpg</td>\n",
       "      <td>0</td>\n",
       "    </tr>\n",
       "    <tr>\n",
       "      <th>2</th>\n",
       "      <td>777173e839e6cfa7</td>\n",
       "      <td>test/7/7/7/777173e839e6cfa7.jpg</td>\n",
       "      <td>0</td>\n",
       "    </tr>\n",
       "    <tr>\n",
       "      <th>3</th>\n",
       "      <td>7726658184c7e337</td>\n",
       "      <td>test/7/7/2/7726658184c7e337.jpg</td>\n",
       "      <td>0</td>\n",
       "    </tr>\n",
       "    <tr>\n",
       "      <th>4</th>\n",
       "      <td>77be72c73bbf4f18</td>\n",
       "      <td>test/7/7/b/77be72c73bbf4f18.jpg</td>\n",
       "      <td>0</td>\n",
       "    </tr>\n",
       "  </tbody>\n",
       "</table>\n",
       "</div>"
      ],
      "text/plain": [
       "                 id                             path landmark_id\n",
       "0  777f9efff0fc6b81  test/7/7/7/777f9efff0fc6b81.jpg           0\n",
       "1  7774e44062fbd8bc  test/7/7/7/7774e44062fbd8bc.jpg           0\n",
       "2  777173e839e6cfa7  test/7/7/7/777173e839e6cfa7.jpg           0\n",
       "3  7726658184c7e337  test/7/7/2/7726658184c7e337.jpg           0\n",
       "4  77be72c73bbf4f18  test/7/7/b/77be72c73bbf4f18.jpg           0"
      ]
     },
     "execution_count": 5,
     "metadata": {},
     "output_type": "execute_result"
    }
   ],
   "source": [
    "test_df = get_inference_df(base_data_dir + '/' + test_dir+ '/')\n",
    "test_df = add_file_path(test_df, test_dir)\n",
    "test_df.head()"
   ]
  },
  {
   "cell_type": "code",
   "execution_count": 6,
   "id": "828e9e35",
   "metadata": {
    "execution": {
     "iopub.execute_input": "2021-09-06T10:11:38.821128Z",
     "iopub.status.busy": "2021-09-06T10:11:38.820276Z",
     "iopub.status.idle": "2021-09-06T10:11:38.824556Z",
     "shell.execute_reply": "2021-09-06T10:11:38.824053Z",
     "shell.execute_reply.started": "2021-09-06T09:31:46.120285Z"
    },
    "papermill": {
     "duration": 0.01837,
     "end_time": "2021-09-06T10:11:38.824692",
     "exception": false,
     "start_time": "2021-09-06T10:11:38.806322",
     "status": "completed"
    },
    "tags": []
   },
   "outputs": [
    {
     "data": {
      "text/plain": [
       "['10419', '113209', '120734', '126637', '138982', '139894', '149980', '161902', '168098', '176018', '176528', '177870', '1924', '194914', '20120', '20409', '36748', '46705', '83144', '9070']"
      ]
     },
     "execution_count": 6,
     "metadata": {},
     "output_type": "execute_result"
    }
   ],
   "source": [
    "cat_list = learner.dls.vocab\n",
    "cat_list"
   ]
  },
  {
   "cell_type": "code",
   "execution_count": 7,
   "id": "7cccbcc4",
   "metadata": {
    "execution": {
     "iopub.execute_input": "2021-09-06T10:11:38.856183Z",
     "iopub.status.busy": "2021-09-06T10:11:38.855499Z",
     "iopub.status.idle": "2021-09-06T10:42:46.072282Z",
     "shell.execute_reply": "2021-09-06T10:42:46.072901Z",
     "shell.execute_reply.started": "2021-09-06T09:31:46.130023Z"
    },
    "papermill": {
     "duration": 1867.239414,
     "end_time": "2021-09-06T10:42:46.073323",
     "exception": false,
     "start_time": "2021-09-06T10:11:38.833909",
     "status": "completed"
    },
    "tags": []
   },
   "outputs": [
    {
     "data": {
      "text/html": [],
      "text/plain": [
       "<IPython.core.display.HTML object>"
      ]
     },
     "metadata": {},
     "output_type": "display_data"
    },
    {
     "data": {
      "text/html": [
       "<div>\n",
       "<style scoped>\n",
       "    .dataframe tbody tr th:only-of-type {\n",
       "        vertical-align: middle;\n",
       "    }\n",
       "\n",
       "    .dataframe tbody tr th {\n",
       "        vertical-align: top;\n",
       "    }\n",
       "\n",
       "    .dataframe thead th {\n",
       "        text-align: right;\n",
       "    }\n",
       "</style>\n",
       "<table border=\"1\" class=\"dataframe\">\n",
       "  <thead>\n",
       "    <tr style=\"text-align: right;\">\n",
       "      <th></th>\n",
       "      <th>id</th>\n",
       "      <th>path</th>\n",
       "      <th>landmark_id</th>\n",
       "      <th>landmarks</th>\n",
       "    </tr>\n",
       "  </thead>\n",
       "  <tbody>\n",
       "    <tr>\n",
       "      <th>0</th>\n",
       "      <td>777f9efff0fc6b81</td>\n",
       "      <td>test/7/7/7/777f9efff0fc6b81.jpg</td>\n",
       "      <td>0</td>\n",
       "      <td>20120 0.7920076847076416</td>\n",
       "    </tr>\n",
       "    <tr>\n",
       "      <th>1</th>\n",
       "      <td>7774e44062fbd8bc</td>\n",
       "      <td>test/7/7/7/7774e44062fbd8bc.jpg</td>\n",
       "      <td>0</td>\n",
       "      <td>176528 0.8594590425491333</td>\n",
       "    </tr>\n",
       "    <tr>\n",
       "      <th>2</th>\n",
       "      <td>777173e839e6cfa7</td>\n",
       "      <td>test/7/7/7/777173e839e6cfa7.jpg</td>\n",
       "      <td>0</td>\n",
       "      <td>176528 0.8384840488433838</td>\n",
       "    </tr>\n",
       "    <tr>\n",
       "      <th>3</th>\n",
       "      <td>7726658184c7e337</td>\n",
       "      <td>test/7/7/2/7726658184c7e337.jpg</td>\n",
       "      <td>0</td>\n",
       "      <td>161902 0.8116684556007385</td>\n",
       "    </tr>\n",
       "    <tr>\n",
       "      <th>4</th>\n",
       "      <td>77be72c73bbf4f18</td>\n",
       "      <td>test/7/7/b/77be72c73bbf4f18.jpg</td>\n",
       "      <td>0</td>\n",
       "      <td>138982 0.9177926182746887</td>\n",
       "    </tr>\n",
       "  </tbody>\n",
       "</table>\n",
       "</div>"
      ],
      "text/plain": [
       "                 id                             path landmark_id  \\\n",
       "0  777f9efff0fc6b81  test/7/7/7/777f9efff0fc6b81.jpg           0   \n",
       "1  7774e44062fbd8bc  test/7/7/7/7774e44062fbd8bc.jpg           0   \n",
       "2  777173e839e6cfa7  test/7/7/7/777173e839e6cfa7.jpg           0   \n",
       "3  7726658184c7e337  test/7/7/2/7726658184c7e337.jpg           0   \n",
       "4  77be72c73bbf4f18  test/7/7/b/77be72c73bbf4f18.jpg           0   \n",
       "\n",
       "                   landmarks  \n",
       "0   20120 0.7920076847076416  \n",
       "1  176528 0.8594590425491333  \n",
       "2  176528 0.8384840488433838  \n",
       "3  161902 0.8116684556007385  \n",
       "4  138982 0.9177926182746887  "
      ]
     },
     "execution_count": 7,
     "metadata": {},
     "output_type": "execute_result"
    }
   ],
   "source": [
    "pred_df = get_predicted_data(learner, test_df, cat_list)\n",
    "pred_df.head()"
   ]
  },
  {
   "cell_type": "code",
   "execution_count": 8,
   "id": "a35dd6c8",
   "metadata": {
    "execution": {
     "iopub.execute_input": "2021-09-06T10:42:46.104133Z",
     "iopub.status.busy": "2021-09-06T10:42:46.103241Z",
     "iopub.status.idle": "2021-09-06T10:42:46.153929Z",
     "shell.execute_reply": "2021-09-06T10:42:46.153323Z",
     "shell.execute_reply.started": "2021-09-06T10:09:41.175692Z"
    },
    "papermill": {
     "duration": 0.069508,
     "end_time": "2021-09-06T10:42:46.154073",
     "exception": false,
     "start_time": "2021-09-06T10:42:46.084565",
     "status": "completed"
    },
    "tags": []
   },
   "outputs": [],
   "source": [
    "pred_df[['id','landmarks']].to_csv(f\"{output_dir}/submission.csv\",\n",
    "               index= False)"
   ]
  },
  {
   "cell_type": "code",
   "execution_count": null,
   "id": "4bc4c68d",
   "metadata": {
    "papermill": {
     "duration": 0.009927,
     "end_time": "2021-09-06T10:42:46.174623",
     "exception": false,
     "start_time": "2021-09-06T10:42:46.164696",
     "status": "completed"
    },
    "tags": []
   },
   "outputs": [],
   "source": []
  }
 ],
 "metadata": {
  "kernelspec": {
   "display_name": "Python 3",
   "language": "python",
   "name": "python3"
  },
  "language_info": {
   "codemirror_mode": {
    "name": "ipython",
    "version": 3
   },
   "file_extension": ".py",
   "mimetype": "text/x-python",
   "name": "python",
   "nbconvert_exporter": "python",
   "pygments_lexer": "ipython3",
   "version": "3.7.10"
  },
  "papermill": {
   "default_parameters": {},
   "duration": 1896.468463,
   "end_time": "2021-09-06T10:42:48.106181",
   "environment_variables": {},
   "exception": null,
   "input_path": "__notebook__.ipynb",
   "output_path": "__notebook__.ipynb",
   "parameters": {},
   "start_time": "2021-09-06T10:11:11.637718",
   "version": "2.3.3"
  }
 },
 "nbformat": 4,
 "nbformat_minor": 5
}
