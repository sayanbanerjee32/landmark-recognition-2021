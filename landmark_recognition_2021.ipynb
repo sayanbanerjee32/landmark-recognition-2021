{
  "nbformat": 4,
  "nbformat_minor": 0,
  "metadata": {
    "colab": {
      "name": "landmark-recognition-2021.ipynb",
      "provenance": [],
      "authorship_tag": "ABX9TyMathRzePSlIvKm/Mhu6/PO",
      "include_colab_link": true
    },
    "kernelspec": {
      "name": "python3",
      "display_name": "Python 3"
    },
    "language_info": {
      "name": "python"
    }
  },
  "cells": [
    {
      "cell_type": "markdown",
      "metadata": {
        "id": "view-in-github",
        "colab_type": "text"
      },
      "source": [
        "<a href=\"https://colab.research.google.com/github/sayanbanerjee32/landmark-recognition-2021/blob/main/landmark_recognition_2021.ipynb\" target=\"_parent\"><img src=\"https://colab.research.google.com/assets/colab-badge.svg\" alt=\"Open In Colab\"/></a>"
      ]
    },
    {
      "cell_type": "code",
      "metadata": {
        "id": "rT3glJXlBY3-"
      },
      "source": [
        "# To import kaggle datasets\n",
        "!pip install -q kaggle"
      ],
      "execution_count": 1,
      "outputs": []
    },
    {
      "cell_type": "code",
      "metadata": {
        "colab": {
          "resources": {
            "http://localhost:8080/nbextensions/google.colab/files.js": {
              "data": "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",
              "ok": true,
              "headers": [
                [
                  "content-type",
                  "application/javascript"
                ]
              ],
              "status": 200,
              "status_text": ""
            }
          },
          "base_uri": "https://localhost:8080/",
          "height": 91
        },
        "id": "k_wg82iEBrYu",
        "outputId": "2c04fc53-4035-4d20-84b3-6308205d1560"
      },
      "source": [
        "# import colab libraries\n",
        "from google.colab import files\n",
        "# import kaggle json to connect to kaggle user account to download datsets\n",
        "files.upload()"
      ],
      "execution_count": 2,
      "outputs": [
        {
          "output_type": "display_data",
          "data": {
            "text/html": [
              "\n",
              "     <input type=\"file\" id=\"files-69b490f4-1010-4d56-b087-1fe970b33f76\" name=\"files[]\" multiple disabled\n",
              "        style=\"border:none\" />\n",
              "     <output id=\"result-69b490f4-1010-4d56-b087-1fe970b33f76\">\n",
              "      Upload widget is only available when the cell has been executed in the\n",
              "      current browser session. Please rerun this cell to enable.\n",
              "      </output>\n",
              "      <script src=\"/nbextensions/google.colab/files.js\"></script> "
            ],
            "text/plain": [
              "<IPython.core.display.HTML object>"
            ]
          },
          "metadata": {}
        },
        {
          "output_type": "stream",
          "name": "stdout",
          "text": [
            "Saving kaggle.json to kaggle.json\n"
          ]
        },
        {
          "output_type": "execute_result",
          "data": {
            "text/plain": [
              "{'kaggle.json': b'{\"username\":\"saansd2003\",\"key\":\"49c2be11dfd314e10999ff432e1eeb65\"}'}"
            ]
          },
          "metadata": {},
          "execution_count": 2
        }
      ]
    },
    {
      "cell_type": "code",
      "metadata": {
        "id": "HwQL_v_DB2Je"
      },
      "source": [
        ""
      ],
      "execution_count": 3,
      "outputs": []
    },
    {
      "cell_type": "code",
      "metadata": {
        "id": "JJwiG4smB8P0"
      },
      "source": [
        "# The Kaggle API client expects this file to be in ~/.kaggle,\n",
        "# so lets move it there.\n",
        "!mkdir ~/.kaggle\n",
        "!cp kaggle.json ~/.kaggle/"
      ],
      "execution_count": 4,
      "outputs": []
    },
    {
      "cell_type": "code",
      "metadata": {
        "id": "G4OZuQXWB_KX"
      },
      "source": [
        "# This permissions change avoids a warning on Kaggle tool startup.\n",
        "!chmod 600 ~/.kaggle/kaggle.json"
      ],
      "execution_count": 5,
      "outputs": []
    },
    {
      "cell_type": "code",
      "metadata": {
        "colab": {
          "base_uri": "https://localhost:8080/"
        },
        "id": "grybjER2CBwi",
        "outputId": "99ff9550-c276-4432-c0ae-d0a3816407e2"
      },
      "source": [
        "# download our dataset\n",
        "!kaggle competitions download -c landmark-recognition-2021"
      ],
      "execution_count": 7,
      "outputs": [
        {
          "output_type": "stream",
          "name": "stdout",
          "text": [
            "Warning: Looks like you're using an outdated API Version, please consider updating (server 1.5.12 / client 1.5.4)\n",
            "Downloading bbb6023bb5add78d.jpg to /content\n",
            "  0% 0.00/113k [00:00<?, ?B/s]\n",
            "100% 113k/113k [00:00<00:00, 43.0MB/s]\n",
            "Downloading bbb3c1007b972fc8.jpg to /content\n",
            "  0% 0.00/111k [00:00<?, ?B/s]\n",
            "100% 111k/111k [00:00<00:00, 35.5MB/s]\n",
            "Downloading bbbaf8541c0b7b3a.jpg to /content\n",
            "  0% 0.00/51.6k [00:00<?, ?B/s]\n",
            "100% 51.6k/51.6k [00:00<00:00, 51.9MB/s]\n",
            "Downloading bb46e321897b0797.jpg to /content\n",
            "  0% 0.00/221k [00:00<?, ?B/s]\n",
            "100% 221k/221k [00:00<00:00, 67.6MB/s]\n",
            "Downloading bb48e005725c37bf.jpg to /content\n",
            "  0% 0.00/201k [00:00<?, ?B/s]\n",
            "100% 201k/201k [00:00<00:00, 61.0MB/s]\n",
            "Downloading bb440e9ad51ba6f6.jpg to /content\n",
            "  0% 0.00/132k [00:00<?, ?B/s]\n",
            "100% 132k/132k [00:00<00:00, 42.8MB/s]\n",
            "Downloading bb49a00066fad441.jpg to /content\n",
            "  0% 0.00/69.0k [00:00<?, ?B/s]\n",
            "100% 69.0k/69.0k [00:00<00:00, 65.2MB/s]\n",
            "Downloading bb467bff529965ef.jpg to /content\n",
            "  0% 0.00/206k [00:00<?, ?B/s]\n",
            "100% 206k/206k [00:00<00:00, 65.7MB/s]\n",
            "Downloading bb4b27dc9fd8750c.jpg to /content\n",
            "  0% 0.00/89.0k [00:00<?, ?B/s]\n",
            "100% 89.0k/89.0k [00:00<00:00, 85.1MB/s]\n",
            "Downloading bb7e701ab45326c1.jpg to /content\n",
            "  0% 0.00/71.1k [00:00<?, ?B/s]\n",
            "100% 71.1k/71.1k [00:00<00:00, 98.1MB/s]\n",
            "Downloading bb7bbc579e95d82f.jpg to /content\n",
            "  0% 0.00/112k [00:00<?, ?B/s]\n",
            "100% 112k/112k [00:00<00:00, 118MB/s]\n",
            "Downloading bb74ee424e43ea36.jpg to /content\n",
            "  0% 0.00/40.7k [00:00<?, ?B/s]\n",
            "100% 40.7k/40.7k [00:00<00:00, 38.9MB/s]\n",
            "Downloading bb77aaf377ba68de.jpg to /content\n",
            "  0% 0.00/125k [00:00<?, ?B/s]\n",
            "100% 125k/125k [00:00<00:00, 106MB/s]\n",
            "Downloading bbc6136c9dff9787.jpg to /content\n",
            "  0% 0.00/122k [00:00<?, ?B/s]\n",
            "100% 122k/122k [00:00<00:00, 146MB/s]\n",
            "Downloading bbc61c0c72db2db6.jpg to /content\n",
            "  0% 0.00/62.9k [00:00<?, ?B/s]\n",
            "100% 62.9k/62.9k [00:00<00:00, 94.3MB/s]\n",
            "Downloading bb59232ac04865fa.jpg to /content\n",
            "  0% 0.00/97.9k [00:00<?, ?B/s]\n",
            "100% 97.9k/97.9k [00:00<00:00, 93.5MB/s]\n",
            "Downloading bb55392cdb8f096b.jpg to /content\n",
            "  0% 0.00/75.8k [00:00<?, ?B/s]\n",
            "100% 75.8k/75.8k [00:00<00:00, 84.1MB/s]\n",
            "Downloading bb53249fa2972a46.jpg to /content\n",
            "  0% 0.00/78.4k [00:00<?, ?B/s]\n",
            "100% 78.4k/78.4k [00:00<00:00, 95.7MB/s]\n",
            "Downloading bb5dfed8de3bebb8.jpg to /content\n",
            "  0% 0.00/123k [00:00<?, ?B/s]\n",
            "100% 123k/123k [00:00<00:00, 127MB/s]\n",
            "Downloading bb20826b4521ec0b.jpg to /content\n",
            "  0% 0.00/72.2k [00:00<?, ?B/s]\n",
            "100% 72.2k/72.2k [00:00<00:00, 49.3MB/s]\n",
            "Downloading bb2a4bec63eb035d.jpg to /content\n",
            "  0% 0.00/124k [00:00<?, ?B/s]\n",
            "100% 124k/124k [00:00<00:00, 131MB/s]\n",
            "Downloading bbf82248ea5e6794.jpg to /content\n",
            "  0% 0.00/118k [00:00<?, ?B/s]\n",
            "100% 118k/118k [00:00<00:00, 135MB/s]\n",
            "Downloading bb8d1e1b14de1e94.jpg to /content\n",
            "  0% 0.00/72.3k [00:00<?, ?B/s]\n",
            "100% 72.3k/72.3k [00:00<00:00, 59.0MB/s]\n",
            "Downloading bb86cd6ddc26f327.jpg to /content\n",
            "  0% 0.00/91.9k [00:00<?, ?B/s]\n",
            "100% 91.9k/91.9k [00:00<00:00, 76.9MB/s]\n",
            "Downloading bb84d91dd198496a.jpg to /content\n",
            "  0% 0.00/111k [00:00<?, ?B/s]\n",
            "100% 111k/111k [00:00<00:00, 96.6MB/s]\n",
            "Downloading bb1eb7166c57e0fe.jpg to /content\n",
            "  0% 0.00/82.7k [00:00<?, ?B/s]\n",
            "100% 82.7k/82.7k [00:00<00:00, 85.4MB/s]\n",
            "Downloading bb18b9535d2ab442.jpg to /content\n",
            "  0% 0.00/83.6k [00:00<?, ?B/s]\n",
            "100% 83.6k/83.6k [00:00<00:00, 69.3MB/s]\n",
            "Downloading bb1120d2e0f50375.jpg to /content\n",
            "  0% 0.00/95.9k [00:00<?, ?B/s]\n",
            "100% 95.9k/95.9k [00:00<00:00, 99.5MB/s]\n",
            "Downloading bb17601cb182ead2.jpg to /content\n",
            "  0% 0.00/93.3k [00:00<?, ?B/s]\n",
            "100% 93.3k/93.3k [00:00<00:00, 84.6MB/s]\n",
            "Downloading bb02348332c274cb.jpg to /content\n",
            "  0% 0.00/129k [00:00<?, ?B/s]\n",
            "100% 129k/129k [00:00<00:00, 110MB/s]\n",
            "Downloading bbe5f20fc98683e2.jpg to /content\n",
            "  0% 0.00/53.4k [00:00<?, ?B/s]\n",
            "100% 53.4k/53.4k [00:00<00:00, 98.9MB/s]\n",
            "Downloading bbeeec7654090ada.jpg to /content\n",
            "  0% 0.00/104k [00:00<?, ?B/s]\n",
            "100% 104k/104k [00:00<00:00, 101MB/s]\n",
            "Downloading bb933038e5190af8.jpg to /content\n",
            "  0% 0.00/121k [00:00<?, ?B/s]\n",
            "100% 121k/121k [00:00<00:00, 154MB/s]\n",
            "Downloading bb99bee18ea3f9c9.jpg to /content\n",
            "  0% 0.00/40.2k [00:00<?, ?B/s]\n",
            "100% 40.2k/40.2k [00:00<00:00, 31.2MB/s]\n",
            "Downloading bb9aa58968f4e6f9.jpg to /content\n",
            "  0% 0.00/81.7k [00:00<?, ?B/s]\n",
            "100% 81.7k/81.7k [00:00<00:00, 77.1MB/s]\n",
            "Downloading bb95d9c3aa818b2c.jpg to /content\n",
            "  0% 0.00/143k [00:00<?, ?B/s]\n",
            "100% 143k/143k [00:00<00:00, 110MB/s]\n",
            "Downloading bb6d2d26bd5ec2f9.jpg to /content\n",
            "  0% 0.00/83.8k [00:00<?, ?B/s]\n",
            "100% 83.8k/83.8k [00:00<00:00, 76.5MB/s]\n",
            "Downloading bbaf03dc1cef787b.jpg to /content\n",
            "  0% 0.00/46.5k [00:00<?, ?B/s]\n",
            "100% 46.5k/46.5k [00:00<00:00, 38.9MB/s]\n",
            "Downloading b4b5000c10a51e0b.jpg to /content\n",
            "  0% 0.00/52.9k [00:00<?, ?B/s]\n",
            "100% 52.9k/52.9k [00:00<00:00, 50.3MB/s]\n",
            "Downloading b4b65f39afe03ac7.jpg to /content\n",
            "  0% 0.00/90.8k [00:00<?, ?B/s]\n",
            "100% 90.8k/90.8k [00:00<00:00, 132MB/s]\n",
            "Downloading b4bf74f5c39b012f.jpg to /content\n",
            "  0% 0.00/57.4k [00:00<?, ?B/s]\n",
            "100% 57.4k/57.4k [00:00<00:00, 112MB/s]\n",
            "Downloading b442fbb8708236e4.jpg to /content\n",
            "  0% 0.00/101k [00:00<?, ?B/s]\n",
            "100% 101k/101k [00:00<00:00, 100MB/s]\n",
            "Downloading b44ba2f0918a832c.jpg to /content\n",
            "  0% 0.00/147k [00:00<?, ?B/s]\n",
            "100% 147k/147k [00:00<00:00, 133MB/s]\n",
            "Downloading b472da5d3fef7330.jpg to /content\n",
            "  0% 0.00/99.9k [00:00<?, ?B/s]\n",
            "100% 99.9k/99.9k [00:00<00:00, 101MB/s]\n",
            "Downloading b45fc449f11fde0c.jpg to /content\n",
            "  0% 0.00/62.1k [00:00<?, ?B/s]\n",
            "100% 62.1k/62.1k [00:00<00:00, 64.3MB/s]\n",
            "Downloading b45e46de52c04574.jpg to /content\n",
            "  0% 0.00/107k [00:00<?, ?B/s]\n",
            "100% 107k/107k [00:00<00:00, 97.2MB/s]\n",
            "Downloading b45642f43b82a2da.jpg to /content\n",
            "  0% 0.00/179k [00:00<?, ?B/s]\n",
            "100% 179k/179k [00:00<00:00, 55.1MB/s]\n",
            "Downloading b45026010890dfce.jpg to /content\n",
            "  0% 0.00/83.3k [00:00<?, ?B/s]\n",
            "100% 83.3k/83.3k [00:00<00:00, 80.0MB/s]\n",
            "Downloading b45f20934ff6eefd.jpg to /content\n",
            "  0% 0.00/107k [00:00<?, ?B/s]\n",
            "100% 107k/107k [00:00<00:00, 76.6MB/s]\n",
            "Downloading b45df2b3fdbf25cd.jpg to /content\n",
            "  0% 0.00/79.0k [00:00<?, ?B/s]\n",
            "100% 79.0k/79.0k [00:00<00:00, 126MB/s]\n",
            "Downloading b43853320fd11d53.jpg to /content\n",
            "  0% 0.00/75.3k [00:00<?, ?B/s]\n",
            "100% 75.3k/75.3k [00:00<00:00, 78.1MB/s]\n",
            "Downloading b431e0ed3e082228.jpg to /content\n",
            "  0% 0.00/106k [00:00<?, ?B/s]\n",
            "100% 106k/106k [00:00<00:00, 108MB/s]\n",
            "Downloading b43c13706ff9731d.jpg to /content\n",
            "  0% 0.00/106k [00:00<?, ?B/s]\n",
            "100% 106k/106k [00:00<00:00, 136MB/s]\n",
            "Downloading b439d82f73ad51ba.jpg to /content\n",
            "  0% 0.00/62.2k [00:00<?, ?B/s]\n",
            "100% 62.2k/62.2k [00:00<00:00, 62.5MB/s]\n",
            "Downloading b43b0678d16ae0a1.jpg to /content\n",
            "  0% 0.00/51.4k [00:00<?, ?B/s]\n",
            "100% 51.4k/51.4k [00:00<00:00, 48.8MB/s]\n",
            "Downloading b42ba5a324376796.jpg to /content\n",
            "  0% 0.00/89.8k [00:00<?, ?B/s]\n",
            "100% 89.8k/89.8k [00:00<00:00, 85.1MB/s]\n",
            "Downloading b42a4eb71d1a8d83.jpg to /content\n",
            "  0% 0.00/106k [00:00<?, ?B/s]\n",
            "100% 106k/106k [00:00<00:00, 103MB/s]\n",
            "Downloading b422c38c9a8fcf38.jpg to /content\n",
            "  0% 0.00/110k [00:00<?, ?B/s]\n",
            "100% 110k/110k [00:00<00:00, 108MB/s]\n",
            "Downloading b42d6cfe40a85f7e.jpg to /content\n",
            "  0% 0.00/169k [00:00<?, ?B/s]\n",
            "100% 169k/169k [00:00<00:00, 152MB/s]\n",
            "Downloading b4fcbdc204ab8239.jpg to /content\n",
            "  0% 0.00/82.2k [00:00<?, ?B/s]\n",
            "100% 82.2k/82.2k [00:00<00:00, 44.6MB/s]\n",
            "Downloading b485aebe2a7563be.jpg to /content\n",
            "  0% 0.00/178k [00:00<?, ?B/s]\n",
            "100% 178k/178k [00:00<00:00, 102MB/s]\n",
            "Downloading b418213b43b68822.jpg to /content\n",
            "  0% 0.00/85.2k [00:00<?, ?B/s]\n",
            "100% 85.2k/85.2k [00:00<00:00, 87.4MB/s]\n",
            "Downloading b41207f7eb935759.jpg to /content\n",
            "  0% 0.00/174k [00:00<?, ?B/s]\n",
            "100% 174k/174k [00:00<00:00, 54.3MB/s]\n",
            "Downloading b4051162019d47fb.jpg to /content\n",
            "  0% 0.00/43.6k [00:00<?, ?B/s]\n",
            "100% 43.6k/43.6k [00:00<00:00, 66.5MB/s]\n",
            "Downloading b404c91a072d19ed.jpg to /content\n",
            "  0% 0.00/64.6k [00:00<?, ?B/s]\n",
            "100% 64.6k/64.6k [00:00<00:00, 53.3MB/s]\n",
            "Downloading b4e2ba2f6d46f5f2.jpg to /content\n",
            "  0% 0.00/126k [00:00<?, ?B/s]\n",
            "100% 126k/126k [00:00<00:00, 40.6MB/s]\n",
            "Downloading b4d7025725d87c90.jpg to /content\n",
            "  0% 0.00/89.8k [00:00<?, ?B/s]\n",
            "100% 89.8k/89.8k [00:00<00:00, 76.0MB/s]\n",
            "Downloading b4d3bd2d62db99e1.jpg to /content\n",
            "  0% 0.00/144k [00:00<?, ?B/s]\n",
            "100% 144k/144k [00:00<00:00, 123MB/s]\n",
            "Downloading b49288e9bceaadf5.jpg to /content\n",
            "  0% 0.00/145k [00:00<?, ?B/s]\n",
            "100% 145k/145k [00:00<00:00, 49.5MB/s]\n",
            "Downloading b49c9323d784131f.jpg to /content\n",
            "  0% 0.00/154k [00:00<?, ?B/s]\n",
            "100% 154k/154k [00:00<00:00, 48.6MB/s]\n",
            "Downloading b4677c858e1e8528.jpg to /content\n",
            "  0% 0.00/103k [00:00<?, ?B/s]\n",
            "100% 103k/103k [00:00<00:00, 77.9MB/s]\n",
            "Downloading b7b8d798c14c040d.jpg to /content\n",
            "  0% 0.00/122k [00:00<?, ?B/s]\n",
            "100% 122k/122k [00:00<00:00, 109MB/s]\n",
            "Downloading b7b89b20aed87419.jpg to /content\n",
            "  0% 0.00/108k [00:00<?, ?B/s]\n",
            "100% 108k/108k [00:00<00:00, 111MB/s]\n",
            "Downloading b7b428f153fa573d.jpg to /content\n",
            "  0% 0.00/121k [00:00<?, ?B/s]\n",
            "100% 121k/121k [00:00<00:00, 121MB/s]\n",
            "Downloading b7b1ee97e035250c.jpg to /content\n",
            "  0% 0.00/88.7k [00:00<?, ?B/s]\n",
            "100% 88.7k/88.7k [00:00<00:00, 88.4MB/s]\n",
            "Downloading b7b1d247f2c52b34.jpg to /content\n",
            "  0% 0.00/168k [00:00<?, ?B/s]\n",
            "100% 168k/168k [00:00<00:00, 157MB/s]\n",
            "Downloading b74ec1d7479e02c3.jpg to /content\n",
            "  0% 0.00/27.6k [00:00<?, ?B/s]\n",
            "100% 27.6k/27.6k [00:00<00:00, 28.5MB/s]\n",
            "Downloading b7460a173fb21b0b.jpg to /content\n",
            "  0% 0.00/128k [00:00<?, ?B/s]\n",
            "100% 128k/128k [00:00<00:00, 119MB/s]\n",
            "Downloading b77148ca4062c037.jpg to /content\n",
            "  0% 0.00/77.4k [00:00<?, ?B/s]\n",
            "100% 77.4k/77.4k [00:00<00:00, 63.9MB/s]\n",
            "Downloading b77457f2ca227b5d.jpg to /content\n",
            "  0% 0.00/72.7k [00:00<?, ?B/s]\n",
            "100% 72.7k/72.7k [00:00<00:00, 59.8MB/s]\n",
            "Downloading b77f8ce91f5d6e53.jpg to /content\n",
            "  0% 0.00/163k [00:00<?, ?B/s]\n",
            "100% 163k/163k [00:00<00:00, 167MB/s]\n",
            "Downloading b7c53df734fb41a9.jpg to /content\n",
            "  0% 0.00/17.2k [00:00<?, ?B/s]\n",
            "100% 17.2k/17.2k [00:00<00:00, 16.7MB/s]\n",
            "Downloading b7c68153a45b2271.jpg to /content\n",
            "  0% 0.00/178k [00:00<?, ?B/s]\n",
            "100% 178k/178k [00:00<00:00, 181MB/s]\n",
            "Downloading b755da59ab921c2d.jpg to /content\n",
            "  0% 0.00/63.5k [00:00<?, ?B/s]\n",
            "100% 63.5k/63.5k [00:00<00:00, 63.0MB/s]\n",
            "Downloading b754d9d20b629e2c.jpg to /content\n",
            "  0% 0.00/82.7k [00:00<?, ?B/s]\n",
            "100% 82.7k/82.7k [00:00<00:00, 99.2MB/s]\n",
            "Downloading b7300dd4b23561e2.jpg to /content\n",
            "  0% 0.00/112k [00:00<?, ?B/s]\n",
            "100% 112k/112k [00:00<00:00, 120MB/s]\n",
            "Downloading b7306e8cbf029dea.jpg to /content\n",
            "  0% 0.00/113k [00:00<?, ?B/s]\n",
            "100% 113k/113k [00:00<00:00, 99.7MB/s]\n",
            "Downloading b732b49f7da5eb62.jpg to /content\n",
            "  0% 0.00/120k [00:00<?, ?B/s]\n",
            "100% 120k/120k [00:00<00:00, 122MB/s]\n",
            "Downloading b73c11b46bfb3fcc.jpg to /content\n",
            "  0% 0.00/16.6k [00:00<?, ?B/s]\n",
            "100% 16.6k/16.6k [00:00<00:00, 17.4MB/s]\n",
            "Downloading b72f13bb334cdca7.jpg to /content\n",
            "  0% 0.00/71.7k [00:00<?, ?B/s]\n",
            "100% 71.7k/71.7k [00:00<00:00, 63.8MB/s]\n",
            "Downloading b7fac07d210dd74f.jpg to /content\n",
            "  0% 0.00/118k [00:00<?, ?B/s]\n",
            "100% 118k/118k [00:00<00:00, 118MB/s]\n",
            "Downloading b7f90e50c4fa84b0.jpg to /content\n",
            "  0% 0.00/85.5k [00:00<?, ?B/s]\n",
            "100% 85.5k/85.5k [00:00<00:00, 82.2MB/s]\n",
            "Downloading b7f8622f748ae2ae.jpg to /content\n",
            "  0% 0.00/91.5k [00:00<?, ?B/s]\n",
            "100% 91.5k/91.5k [00:00<00:00, 93.7MB/s]\n",
            "Downloading b78ba6f83f2dfa7e.jpg to /content\n",
            "  0% 0.00/125k [00:00<?, ?B/s]\n",
            "100% 125k/125k [00:00<00:00, 124MB/s]\n",
            "Downloading b785fde73115b49b.jpg to /content\n",
            "  0% 0.00/79.9k [00:00<?, ?B/s]\n",
            "100% 79.9k/79.9k [00:00<00:00, 72.4MB/s]\n",
            "Downloading b782a4c0fac7a54d.jpg to /content\n",
            "  0% 0.00/83.9k [00:00<?, ?B/s]\n",
            "100% 83.9k/83.9k [00:00<00:00, 73.6MB/s]\n",
            "Downloading b786b0df62c460c2.jpg to /content\n",
            "  0% 0.00/110k [00:00<?, ?B/s]\n",
            "100% 110k/110k [00:00<00:00, 110MB/s]\n",
            "Downloading b78e4f792e629944.jpg to /content\n",
            "  0% 0.00/115k [00:00<?, ?B/s]\n",
            "100% 115k/115k [00:00<00:00, 99.8MB/s]\n",
            "Downloading b78fa6c5c1d9d472.jpg to /content\n",
            "  0% 0.00/57.5k [00:00<?, ?B/s]\n",
            "100% 57.5k/57.5k [00:00<00:00, 30.5MB/s]\n",
            "Downloading b71bb2bfafa3bc0a.jpg to /content\n",
            "  0% 0.00/116k [00:00<?, ?B/s]\n",
            "100% 116k/116k [00:00<00:00, 103MB/s]\n",
            "429 - Too Many Requests\n"
          ]
        }
      ]
    },
    {
      "cell_type": "code",
      "metadata": {
        "colab": {
          "base_uri": "https://localhost:8080/"
        },
        "id": "8JM3SDpNCQLy",
        "outputId": "3baf8079-446e-4fba-d409-c9157438b34e"
      },
      "source": [
        "# unzip training set to `train` folder\n",
        "!mkdir train\n",
        "!unzip train.zip -d train"
      ],
      "execution_count": 8,
      "outputs": [
        {
          "output_type": "stream",
          "name": "stdout",
          "text": [
            "unzip:  cannot find or open train.zip, train.zip.zip or train.zip.ZIP.\n"
          ]
        }
      ]
    },
    {
      "cell_type": "code",
      "metadata": {
        "id": "x2Q8qjHnC1FJ"
      },
      "source": [
        "# unzip test set to `test` folder\n",
        "!mkdir test\n",
        "!unzip test.zip -d test"
      ],
      "execution_count": null,
      "outputs": []
    }
  ]
}